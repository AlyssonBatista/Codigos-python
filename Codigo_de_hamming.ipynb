{
  "nbformat": 4,
  "nbformat_minor": 0,
  "metadata": {
    "colab": {
      "name": "Codigo_de_hamming.ipynb",
      "provenance": [],
      "authorship_tag": "ABX9TyPBn2gMn+Z1OcHFHKNLaE84",
      "include_colab_link": true
    },
    "kernelspec": {
      "name": "python3",
      "display_name": "Python 3"
    },
    "language_info": {
      "name": "python"
    }
  },
  "cells": [
    {
      "cell_type": "markdown",
      "metadata": {
        "id": "view-in-github",
        "colab_type": "text"
      },
      "source": [
        "<a href=\"https://colab.research.google.com/github/AlyssonBatista/Codigos-python/blob/main/Codigo_de_hamming.ipynb\" target=\"_parent\"><img src=\"https://colab.research.google.com/assets/colab-badge.svg\" alt=\"Open In Colab\"/></a>"
      ]
    },
    {
      "cell_type": "code",
      "source": [
        "#\n",
        "#\n",
        "# NÃO APAGAR ESSE CÓDIGO DE FORMA ALGUMA #####################################################################################################\n",
        "#\n",
        "#\n",
        "\n",
        "\n",
        "n=int(input(\"O digite o tamanho do espaço vetorial: \\n\"))\n",
        "\n",
        "\n",
        "def espaco_vetorial(n):\n",
        "    m =[]\n",
        "    lista_m = []\n",
        "    for i in range(2**n):\n",
        "            m = np.binary_repr(i, width=n)\n",
        "            lista_m.append(m)\n",
        "    return lista_m\n",
        "\n",
        "m = np.array(espaco_vetorial(n))\n",
        "\n",
        "def imprime_matriz(m):\n",
        "\n",
        "    linhas = len(m)\n",
        "    colunas = len(m[0])\n",
        "\n",
        "    for i in range(linhas):\n",
        "        for j in range(colunas):\n",
        "            if(j == colunas - 1):\n",
        "                print(\"%s\" %m[i][j])\n",
        "            else:\n",
        "                print(\"%s\" %m[i][j], end = \" \")\n",
        "      \n",
        "#\n",
        "#\n",
        "# NÃO APAGAR ESSE CÓDIGO DE FORMA ALGUMA #####################################################################################################\n",
        "#\n",
        "#"
      ],
      "metadata": {
        "colab": {
          "base_uri": "https://localhost:8080/"
        },
        "id": "5sU5Nt6effhI",
        "outputId": "4c1ea738-76be-4ab4-bed8-33f887d9bd6a"
      },
      "execution_count": 557,
      "outputs": [
        {
          "name": "stdout",
          "output_type": "stream",
          "text": [
            "O digite o tamanho do espaço vetorial: \n",
            "6\n"
          ]
        }
      ]
    },
    {
      "cell_type": "code",
      "source": [
        "imprime_matriz(m)"
      ],
      "metadata": {
        "colab": {
          "base_uri": "https://localhost:8080/"
        },
        "id": "zsecW2LVwM_D",
        "outputId": "4997e516-6e7f-4712-8995-34c3f78f984d"
      },
      "execution_count": 560,
      "outputs": [
        {
          "output_type": "stream",
          "name": "stdout",
          "text": [
            "0 0 0 0 0 0\n",
            "0 0 0 0 0 1\n",
            "0 0 0 0 1 0\n",
            "0 0 0 0 1 1\n",
            "0 0 0 1 0 0\n",
            "0 0 0 1 0 1\n",
            "0 0 0 1 1 0\n",
            "0 0 0 1 1 1\n",
            "0 0 1 0 0 0\n",
            "0 0 1 0 0 1\n",
            "0 0 1 0 1 0\n",
            "0 0 1 0 1 1\n",
            "0 0 1 1 0 0\n",
            "0 0 1 1 0 1\n",
            "0 0 1 1 1 0\n",
            "0 0 1 1 1 1\n",
            "0 1 0 0 0 0\n",
            "0 1 0 0 0 1\n",
            "0 1 0 0 1 0\n",
            "0 1 0 0 1 1\n",
            "0 1 0 1 0 0\n",
            "0 1 0 1 0 1\n",
            "0 1 0 1 1 0\n",
            "0 1 0 1 1 1\n",
            "0 1 1 0 0 0\n",
            "0 1 1 0 0 1\n",
            "0 1 1 0 1 0\n",
            "0 1 1 0 1 1\n",
            "0 1 1 1 0 0\n",
            "0 1 1 1 0 1\n",
            "0 1 1 1 1 0\n",
            "0 1 1 1 1 1\n",
            "1 0 0 0 0 0\n",
            "1 0 0 0 0 1\n",
            "1 0 0 0 1 0\n",
            "1 0 0 0 1 1\n",
            "1 0 0 1 0 0\n",
            "1 0 0 1 0 1\n",
            "1 0 0 1 1 0\n",
            "1 0 0 1 1 1\n",
            "1 0 1 0 0 0\n",
            "1 0 1 0 0 1\n",
            "1 0 1 0 1 0\n",
            "1 0 1 0 1 1\n",
            "1 0 1 1 0 0\n",
            "1 0 1 1 0 1\n",
            "1 0 1 1 1 0\n",
            "1 0 1 1 1 1\n",
            "1 1 0 0 0 0\n",
            "1 1 0 0 0 1\n",
            "1 1 0 0 1 0\n",
            "1 1 0 0 1 1\n",
            "1 1 0 1 0 0\n",
            "1 1 0 1 0 1\n",
            "1 1 0 1 1 0\n",
            "1 1 0 1 1 1\n",
            "1 1 1 0 0 0\n",
            "1 1 1 0 0 1\n",
            "1 1 1 0 1 0\n",
            "1 1 1 0 1 1\n",
            "1 1 1 1 0 0\n",
            "1 1 1 1 0 1\n",
            "1 1 1 1 1 0\n",
            "1 1 1 1 1 1\n"
          ]
        }
      ]
    }
  ]
}