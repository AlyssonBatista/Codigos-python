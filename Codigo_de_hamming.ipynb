{
  "nbformat": 4,
  "nbformat_minor": 0,
  "metadata": {
    "colab": {
      "name": "Codigo_de_hamming.ipynb",
      "provenance": [],
      "authorship_tag": "ABX9TyPDIZO2WgStX3PSOKzCnTlo",
      "include_colab_link": true
    },
    "kernelspec": {
      "name": "python3",
      "display_name": "Python 3"
    },
    "language_info": {
      "name": "python"
    }
  },
  "cells": [
    {
      "cell_type": "markdown",
      "metadata": {
        "id": "view-in-github",
        "colab_type": "text"
      },
      "source": [
        "<a href=\"https://colab.research.google.com/github/AlyssonBatista/Codigos-python/blob/main/Codigo_de_hamming.ipynb\" target=\"_parent\"><img src=\"https://colab.research.google.com/assets/colab-badge.svg\" alt=\"Open In Colab\"/></a>"
      ]
    },
    {
      "cell_type": "code",
      "source": [
        "import numpy as np\n",
        "import random\n",
        "\n",
        "def espaco_vetorial(n): # Função que retorna um espaço vetorial 2^n composto pelo maior número possível de vetores com n elementos de {0,1}\n",
        "    lista = []\n",
        "    vetores = []\n",
        "    for i in range(2**n):\n",
        "            lista = np.binary_repr(i, width=n)\n",
        "            vetores.append(lista)\n",
        "    return vetores\n",
        "\n",
        "\n",
        "def subespaco_vetorial(n,k): # Função que retorna um subespaço vetorial 2^k a partir do espaço vetorial 2^n\n",
        "    vetor_auxiliar = []\n",
        "    subespaco_vetores = []\n",
        "    for i in range(2**k-1):\n",
        "        indicie = random.randrange(1,2**n,1) # indicie dos vetores do espaço vetorial de 1 a 2^n\n",
        "        copia_espaco = np.array(espaco_vetorial(n)) # copia do espaço vetorial\n",
        "        subespaco_vetores.append(copia_espaco[indicie]) # adiciona ao vetor um vetor do espaço vetorial por um indicie aleatório\n",
        "\n",
        "    '''for i in vetor_auxiliar:\n",
        "            if i not in subespaco_vetores:\n",
        "                subespaco_vetores.append(copia_espaco[indicie])'''\n",
        "    subespaco_vetores.insert(0,copia_espaco[0]) # adiciona o vetor nulo no indicie 0 do subespaço\n",
        "            \n",
        "    return subespaco_vetores\n",
        "\n",
        "def imprime_matriz(m):\n",
        "    linhas = len(m)\n",
        "    colunas = len(m[0])\n",
        "\n",
        "    for i in range(linhas):\n",
        "        for j in range(colunas):\n",
        "            if(j == colunas - 1):\n",
        "                print(\"%s\" %m[i][j])\n",
        "            else:\n",
        "                print(\"%s\" %m[i][j], end = \" \")\n",
        "    print('\\n')\n",
        "\n",
        "\n",
        "\n",
        "n=int(input(\"O digite o tamanho do espaço vetorial n: \\n\"))\n",
        "k=int(input(\"O digite o valor de k do subespaço vetorial: \\n\"))# \n",
        "\n",
        "\n",
        "espaco = np.array(espaco_vetorial(n))\n",
        "subespaco = np.array(subespaco_vetorial(n,k))\n",
        "\n",
        "imprime_matriz(espaco)\n",
        "imprime_matriz(subespaco)"
      ],
      "metadata": {
        "colab": {
          "base_uri": "https://localhost:8080/"
        },
        "id": "zjYLq6i6y8tY",
        "outputId": "9cea765a-ccfa-4c2b-a055-efc96e3e4d87"
      },
      "execution_count": 246,
      "outputs": [
        {
          "output_type": "stream",
          "name": "stdout",
          "text": [
            "O digite o tamanho do espaço vetorial n: \n",
            "3\n",
            "O digite o valor de k do subespaço vetorial: \n",
            "2\n",
            "0 0 0\n",
            "0 0 1\n",
            "0 1 0\n",
            "0 1 1\n",
            "1 0 0\n",
            "1 0 1\n",
            "1 1 0\n",
            "1 1 1\n",
            "\n",
            "\n",
            "0 0 0\n",
            "0 0 1\n",
            "1 1 0\n",
            "1 1 0\n",
            "\n",
            "\n"
          ]
        }
      ]
    },
    {
      "cell_type": "code",
      "source": [
        "copia = []\n",
        "lista = []\n",
        "lista_elementos_unicos = []\n",
        "\n",
        "for i in range(7):\n",
        "    lista = np.random.randint(0,10)\n",
        "    copia.append(lista)\n",
        "    \n",
        "    for element in copia:\n",
        "        if element not in lista_elementos_unicos:\n",
        "            lista_elementos_unicos.append(element)\n",
        "\n",
        "print(lista_elementos_unicos)\n",
        " "
      ],
      "metadata": {
        "colab": {
          "base_uri": "https://localhost:8080/"
        },
        "id": "yy46mfg69tCV",
        "outputId": "7041970b-3e71-4d56-dab1-fc9861aff67f"
      },
      "execution_count": 137,
      "outputs": [
        {
          "output_type": "stream",
          "name": "stdout",
          "text": [
            "[0, 8, 9, 4]\n"
          ]
        }
      ]
    },
    {
      "cell_type": "code",
      "source": [
        "import random\n",
        "result = random.sample(range(1,2**n), n)\n",
        "print(result)"
      ],
      "metadata": {
        "colab": {
          "base_uri": "https://localhost:8080/"
        },
        "id": "iR6uFjcsgF5_",
        "outputId": "1a075e09-9769-487c-bd44-77c2ba62294a"
      },
      "execution_count": 244,
      "outputs": [
        {
          "output_type": "stream",
          "name": "stdout",
          "text": [
            "[51, 21, 17, 63, 43, 58]\n"
          ]
        }
      ]
    }
  ]
}