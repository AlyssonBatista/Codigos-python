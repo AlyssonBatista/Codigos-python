{
  "nbformat": 4,
  "nbformat_minor": 0,
  "metadata": {
    "colab": {
      "name": "Codigo_de_hamming.ipynb",
      "provenance": [],
      "authorship_tag": "ABX9TyPZQ9m1JVDrnnUP4WJ8518f",
      "include_colab_link": true
    },
    "kernelspec": {
      "name": "python3",
      "display_name": "Python 3"
    },
    "language_info": {
      "name": "python"
    }
  },
  "cells": [
    {
      "cell_type": "markdown",
      "metadata": {
        "id": "view-in-github",
        "colab_type": "text"
      },
      "source": [
        "<a href=\"https://colab.research.google.com/github/AlyssonBatista/Codigos-python/blob/main/Codigo_de_hamming.ipynb\" target=\"_parent\"><img src=\"https://colab.research.google.com/assets/colab-badge.svg\" alt=\"Open In Colab\"/></a>"
      ]
    },
    {
      "cell_type": "code",
      "source": [
        "import numpy as np\n",
        "import random\n",
        "import itertools\n",
        "\n",
        "def espaco_vetorial(n): # Função que retorna um espaço vetorial 2^n composto pelo maior número possível de vetores com n elementos de {0,1}\n",
        "    alista = []\n",
        "    vetor = []\n",
        "    for numbers in itertools.product([0, 1], repeat=n):\n",
        "        alista = list(numbers)\n",
        "        vetor.append(alista)\n",
        "    espaco_vetor = np.asarray(vetor)\n",
        " \n",
        "    return espaco_vetor\n",
        "\n",
        "\n",
        "def subespaco_vetorial(n,k): # Função que retorna um subespaço vetorial 2^k a partir do espaço vetorial 2^n\n",
        "    subespaco_vetores = []\n",
        "    indicie = []\n",
        "    indicie = random.sample(range(1,2**n), 2**k-1) # indicie dos vetores do espaço vetorial de 1 a 2^n com 2^k-1 elementos NÃO REPETIDOS\n",
        "    for i in range(2**k-1):\n",
        "        copia_espaco = np.array(espaco_vetorial(n)) # copia do espaço vetoria\n",
        "        subespaco_vetores.append(copia_espaco[indicie[i]]) # adiciona ao vetor um vetor do espaço vetorial por um indicie aleatório\n",
        "    subespaco_vetores.insert(0,copia_espaco[0]) # adiciona o vetor nulo no indicie 0 do subespaço\n",
        "    return subespaco_vetores\n",
        "\n",
        "\n",
        "def base_subespaco_vetorial(lista,k): # Função que retorna a base do subespaço vetorial k a partir do subespaço vetorial 2^k\n",
        "    base = []\n",
        "    indicie = random.sample(range(0,2**k), k) # indicie dos vetores do espaço vetorial de 1 a 2^k com k elementos NÃO REPETIDOS\n",
        "    for i in range(k):\n",
        "        copia_subespaco = np.array(lista) # copia do subespaço vetorial\n",
        "        base.append(copia_subespaco[indicie[i]]) # adiciona ao vetor base k vetores do subespaço vetorial por um indicie aleatório\n",
        "    return base\n",
        "\n",
        "\n",
        "def imprime_matriz(lista):\n",
        "    linhas = len(lista)\n",
        "    colunas = len(lista[0])\n",
        "\n",
        "    for i in range(linhas):\n",
        "        for j in range(colunas):\n",
        "            if(j == colunas - 1):\n",
        "                print(\"%s\" %lista[i][j] )\n",
        "            else:\n",
        "                print(\"%s\" %lista[i][j] , end = \" \")\n",
        "    print('\\n')\n",
        "\n",
        "\n",
        "n=int(input(\"O digite o tamanho do espaço vetorial n: \\n\"))\n",
        "k=int(input(\"O digite o valor de k do subespaço vetorial: \\n\"))\n",
        "\n",
        "\n",
        "espaco = np.array(espaco_vetorial(n))\n",
        "subespaco = np.array(subespaco_vetorial(n,k))\n",
        "base = np.array(base_subespaco_vetorial(subespaco,k))\n",
        "print('\\n')\n",
        "print(f'Espaço vetorial = 2^{n}')\n",
        "imprime_matriz(espaco)\n",
        "print(f'Subespaço vetorial = 2^{k}')\n",
        "imprime_matriz(subespaco)\n",
        "print(f'Base do subespaço vetorial k = {k}')\n",
        "imprime_matriz(base)"
      ],
      "metadata": {
        "id": "zjYLq6i6y8tY",
        "colab": {
          "base_uri": "https://localhost:8080/"
        },
        "outputId": "e09f5f6e-75cf-4313-f785-6d0dc557f690"
      },
      "execution_count": 44,
      "outputs": [
        {
          "output_type": "stream",
          "name": "stdout",
          "text": [
            "O digite o tamanho do espaço vetorial n: \n",
            "4\n",
            "O digite o valor de k do subespaço vetorial: \n",
            "2\n",
            "\n",
            "\n",
            "Espaço vetorial = 2^4\n",
            "0 0 0 0\n",
            "0 0 0 1\n",
            "0 0 1 0\n",
            "0 0 1 1\n",
            "0 1 0 0\n",
            "0 1 0 1\n",
            "0 1 1 0\n",
            "0 1 1 1\n",
            "1 0 0 0\n",
            "1 0 0 1\n",
            "1 0 1 0\n",
            "1 0 1 1\n",
            "1 1 0 0\n",
            "1 1 0 1\n",
            "1 1 1 0\n",
            "1 1 1 1\n",
            "\n",
            "\n",
            "Subespaço vetorial = 2^2\n",
            "0 0 0 0\n",
            "1 0 0 0\n",
            "1 0 0 1\n",
            "1 0 1 0\n",
            "\n",
            "\n",
            "Base do subespaço vetorial k = 2\n",
            "1 0 1 0\n",
            "0 0 0 0\n",
            "\n",
            "\n"
          ]
        }
      ]
    },
    {
      "cell_type": "code",
      "source": [
        " "
      ],
      "metadata": {
        "colab": {
          "base_uri": "https://localhost:8080/"
        },
        "id": "JZhGvjINZUeQ",
        "outputId": "2ae1cb01-8be2-4df4-8f4f-0ec94d18daa5"
      },
      "execution_count": 48,
      "outputs": [
        {
          "output_type": "stream",
          "name": "stdout",
          "text": [
            "[0 0 0 0] [0 1 0 0]\n",
            "[0 0 0 1] [0 1 0 1]\n",
            "[0 0 1 0] [0 1 1 0]\n",
            "[0 0 1 1] [0 1 1 1]\n",
            "[0 0 1 1]\n",
            "[0 1 0 1]\n"
          ]
        }
      ]
    },
    {
      "cell_type": "code",
      "source": [
        "def subespaco_vetorial(n,k): # Função que retorna um subespaço vetorial 2^k a partir do espaço vetorial 2^n\n",
        "    subespaco_vetores = []\n",
        "    indicie = []\n",
        "    indicie = random.sample(range(1,2**n), 2**k-1) # indicie dos vetores do espaço vetorial de 1 a 2^n com 2^k-1 elementos NÃO REPETIDOS\n",
        "    for i in range(2**k-1):\n",
        "        copia_espaco = np.array(espaco_vetorial(n)) # copia do espaço vetoria\n",
        "        subespaco_vetores.append(copia_espaco[indicie[i]]) # adiciona ao vetor um vetor do espaço vetorial por um indicie aleatório\n",
        "        \n",
        "    subespaco_vetores.insert(0,copia_espaco[0]) # adiciona o vetor nulo no indicie 0 do subespaço\n",
        "    return subespaco_vetores"
      ],
      "metadata": {
        "id": "TnCl2SWchgOT"
      },
      "execution_count": null,
      "outputs": []
    },
    {
      "cell_type": "code",
      "source": [
        "indicie = random.sample(range(1,2**n), 2**k-1)\n",
        "arra = espaco_vetorial(n)\n",
        "lis = []\n",
        "zeros = espaco_vetorial(n)\n",
        "sub = np.random.randint(2, size=n) \n",
        "for i in range((2**k)-1):\n",
        "    soma = sub + arra[i]\n",
        "    vetor = soma%2\n",
        "    lis.append(vetor)\n",
        "lis.insert(0,zeros[0]) # adiciona o vetor nulo no indicie 0 do subespaço\n",
        "lis\n"
      ],
      "metadata": {
        "colab": {
          "base_uri": "https://localhost:8080/"
        },
        "id": "y3GpNdK9voQd",
        "outputId": "6152211f-a39c-4e63-e21f-09cd9f3c0834"
      },
      "execution_count": 165,
      "outputs": [
        {
          "output_type": "execute_result",
          "data": {
            "text/plain": [
              "[array([0, 0, 0, 0]),\n",
              " array([1, 0, 0, 0]),\n",
              " array([1, 0, 0, 1]),\n",
              " array([1, 0, 1, 0])]"
            ]
          },
          "metadata": {},
          "execution_count": 165
        }
      ]
    },
    {
      "cell_type": "code",
      "source": [
        "sub"
      ],
      "metadata": {
        "colab": {
          "base_uri": "https://localhost:8080/"
        },
        "id": "tP07ZORC2pn4",
        "outputId": "c4a3092d-211b-4ac8-a2aa-9d375d385651"
      },
      "execution_count": 157,
      "outputs": [
        {
          "output_type": "execute_result",
          "data": {
            "text/plain": [
              "array([0, 1, 0, 1])"
            ]
          },
          "metadata": {},
          "execution_count": 157
        }
      ]
    }
  ]
}