{
  "nbformat": 4,
  "nbformat_minor": 0,
  "metadata": {
    "colab": {
      "name": "Codigo_de_hamming.ipynb",
      "provenance": [],
      "authorship_tag": "ABX9TyMGd86ieYuCixiM6gVURpQq",
      "include_colab_link": true
    },
    "kernelspec": {
      "name": "python3",
      "display_name": "Python 3"
    },
    "language_info": {
      "name": "python"
    }
  },
  "cells": [
    {
      "cell_type": "markdown",
      "metadata": {
        "id": "view-in-github",
        "colab_type": "text"
      },
      "source": [
        "<a href=\"https://colab.research.google.com/github/AlyssonBatista/Codigos-python/blob/main/Codigo_de_hamming.ipynb\" target=\"_parent\"><img src=\"https://colab.research.google.com/assets/colab-badge.svg\" alt=\"Open In Colab\"/></a>"
      ]
    },
    {
      "cell_type": "code",
      "source": [
        "import numpy as np\n",
        "import random\n",
        "\n",
        "def espaco_vetorial(n): # Função que retorna um espaço vetorial 2^n composto pelo maior número possível de vetores com n elementos de {0,1}\n",
        "    lista = []\n",
        "    vetores = []\n",
        "    for i in range(2**n):\n",
        "            lista = np.binary_repr(i, width=n) # Função numpy que retorna o maior número possível de vetores com n elemetos {0,1}\n",
        "            vetores.append(lista) \n",
        "    return vetores\n",
        "\n",
        "\n",
        "def subespaco_vetorial(n,k): # Função que retorna um subespaço vetorial 2^k a partir do espaço vetorial 2^n\n",
        "    subespaco_vetores = []\n",
        "    indicie = []\n",
        "    indicie = random.sample(range(1,2**n), 2**k-1) # indicie dos vetores do espaço vetorial de 1 a 2^n com 2^k-1 elementos NÃO REPETIDOS\n",
        "    for i in range(2**k-1):\n",
        "        copia_espaco = np.array(espaco_vetorial(n)) # copia do espaço vetorial\n",
        "        subespaco_vetores.append(copia_espaco[indicie[i]]) # adiciona ao vetor um vetor do espaço vetorial por um indicie aleatório\n",
        "    subespaco_vetores.insert(0,copia_espaco[0]) # adiciona o vetor nulo no indicie 0 do subespaço\n",
        "    return subespaco_vetores\n",
        "\n",
        "\n",
        "def base_subespaco_vetorial(lista,k): # Função que retorna a base do subespaço vetorial k a partir do subespaço vetorial 2^k\n",
        "    base = []\n",
        "    indicie = random.sample(range(0,2**k), k) # indicie dos vetores do espaço vetorial de 1 a 2^k com k elementos NÃO REPETIDOS\n",
        "    for i in range(k):\n",
        "        copia_subespaco = np.array(lista) # copia do subespaço vetorial\n",
        "        base.append(copia_subespaco[indicie[i]]) # adiciona ao vetor base k vetores do subespaço vetorial por um indicie aleatório\n",
        "    return base\n",
        "\n",
        "\n",
        "def imprime_matriz(lista):\n",
        "    linhas = len(lista)\n",
        "    colunas = len(lista[0])\n",
        "\n",
        "    for i in range(linhas):\n",
        "        for j in range(colunas):\n",
        "            if(j == colunas - 1):\n",
        "                print(\"%s\" %lista[i][j])\n",
        "            else:\n",
        "                print(\"%s\" %lista[i][j], end = \" \")\n",
        "    print('\\n')\n",
        "\n",
        "\n",
        "n=int(input(\"O digite o tamanho do espaço vetorial n: \\n\"))\n",
        "k=int(input(\"O digite o valor de k do subespaço vetorial: \\n\"))\n",
        "\n",
        "\n",
        "espaco = np.array(espaco_vetorial(n))\n",
        "subespaco = np.array(subespaco_vetorial(n,k))\n",
        "base = np.array(base_subespaco_vetorial(subespaco,k))\n",
        "print('\\n')\n",
        "print(f'Espaço vetorial = 2^{n}')\n",
        "imprime_matriz(espaco)\n",
        "print(f'Subespaço vetorial = 2^{k}')\n",
        "imprime_matriz(subespaco)\n",
        "print(f'Base do subespaço vetorial k = {k}')\n",
        "imprime_matriz(base)\n",
        "\n"
      ],
      "metadata": {
        "colab": {
          "base_uri": "https://localhost:8080/"
        },
        "id": "zjYLq6i6y8tY",
        "outputId": "e81592b4-a8ea-498c-9fd9-ed9709b2d1c5"
      },
      "execution_count": 237,
      "outputs": [
        {
          "output_type": "stream",
          "name": "stdout",
          "text": [
            "O digite o tamanho do espaço vetorial n: \n",
            "4\n",
            "O digite o valor de k do subespaço vetorial: \n",
            "2\n",
            "\n",
            "\n",
            "Espaço vetorial = 2^4\n",
            "0 0 0 0\n",
            "0 0 0 1\n",
            "0 0 1 0\n",
            "0 0 1 1\n",
            "0 1 0 0\n",
            "0 1 0 1\n",
            "0 1 1 0\n",
            "0 1 1 1\n",
            "1 0 0 0\n",
            "1 0 0 1\n",
            "1 0 1 0\n",
            "1 0 1 1\n",
            "1 1 0 0\n",
            "1 1 0 1\n",
            "1 1 1 0\n",
            "1 1 1 1\n",
            "\n",
            "\n",
            "Subespaço vetorial = 2^2\n",
            "0 0 0 0\n",
            "1 1 0 0\n",
            "1 1 1 0\n",
            "1 0 1 0\n",
            "\n",
            "\n",
            "Base do subespaço vetorial k = 2\n",
            "1 0 1 0\n",
            "0 0 0 0\n",
            "\n",
            "\n"
          ]
        }
      ]
    }
  ]
}