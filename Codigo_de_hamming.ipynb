{
  "nbformat": 4,
  "nbformat_minor": 0,
  "metadata": {
    "colab": {
      "name": "Codigo_de_hamming.ipynb",
      "provenance": [],
      "authorship_tag": "ABX9TyPjzYpmv/+Q9q0zJxzlkaiJ",
      "include_colab_link": true
    },
    "kernelspec": {
      "name": "python3",
      "display_name": "Python 3"
    },
    "language_info": {
      "name": "python"
    }
  },
  "cells": [
    {
      "cell_type": "markdown",
      "metadata": {
        "id": "view-in-github",
        "colab_type": "text"
      },
      "source": [
        "<a href=\"https://colab.research.google.com/github/AlyssonBatista/Codigos-python/blob/main/Codigo_de_hamming.ipynb\" target=\"_parent\"><img src=\"https://colab.research.google.com/assets/colab-badge.svg\" alt=\"Open In Colab\"/></a>"
      ]
    },
    {
      "cell_type": "code",
      "source": [
        "#\n",
        "#\n",
        "# NÃO APAGAR ESSE CÓDIGO DE FORMA ALGUMA #####################################################################################################\n",
        "#\n",
        "#\n",
        "\n",
        "import numpy as np\n",
        "\n",
        "n=int(input(\"O digite o tamanho do espaço vetorial: \\n\"))\n",
        "\n",
        "\n",
        "def espaco_vetorial(n):\n",
        "    m =[]\n",
        "    lista_m = []\n",
        "    for i in range(2**n):\n",
        "            m = np.binary_repr(i, width=n)\n",
        "            lista_m.append(m)\n",
        "    return lista_m\n",
        "\n",
        "m = np.array(espaco_vetorial(n))\n",
        "\n",
        "linhas = len(m)\n",
        "colunas = len(m[0])\n",
        "\n",
        "for i in range(linhas):\n",
        "    for j in range(colunas):\n",
        "        if(j == colunas - 1):\n",
        "            print(\"%s\" %m[i][j])\n",
        "        else:\n",
        "            print(\"%s\" %m[i][j], end = \" \")\n",
        "\n",
        "#\n",
        "#\n",
        "# NÃO APAGAR ESSE CÓDIGO DE FORMA ALGUMA #####################################################################################################\n",
        "#\n",
        "#"
      ],
      "metadata": {
        "colab": {
          "base_uri": "https://localhost:8080/"
        },
        "id": "5sU5Nt6effhI",
        "outputId": "cc71f83a-0b3c-47eb-c8e9-42ddbedf6098"
      },
      "execution_count": 562,
      "outputs": [
        {
          "output_type": "stream",
          "name": "stdout",
          "text": [
            "O digite o tamanho do espaço vetorial: \n",
            "3\n",
            "0 0 0\n",
            "0 0 1\n",
            "0 1 0\n",
            "0 1 1\n",
            "1 0 0\n",
            "1 0 1\n",
            "1 1 0\n",
            "1 1 1\n"
          ]
        }
      ]
    }
  ]
}