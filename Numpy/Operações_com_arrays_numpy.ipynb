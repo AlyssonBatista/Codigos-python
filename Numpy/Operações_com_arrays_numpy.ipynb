{
  "nbformat": 4,
  "nbformat_minor": 0,
  "metadata": {
    "colab": {
      "name": "Operações_com_arrays_numpy.ipynb",
      "provenance": [],
      "authorship_tag": "ABX9TyPyIrsYyv8DNh5NXPVUldzX",
      "include_colab_link": true
    },
    "kernelspec": {
      "name": "python3",
      "display_name": "Python 3"
    },
    "language_info": {
      "name": "python"
    }
  },
  "cells": [
    {
      "cell_type": "markdown",
      "metadata": {
        "id": "view-in-github",
        "colab_type": "text"
      },
      "source": [
        "<a href=\"https://colab.research.google.com/github/AlyssonBatista/Codigos-python/blob/main/Opera%C3%A7%C3%B5es_com_arrays_numpy.ipynb\" target=\"_parent\"><img src=\"https://colab.research.google.com/assets/colab-badge.svg\" alt=\"Open In Colab\"/></a>"
      ]
    },
    {
      "cell_type": "code",
      "execution_count": 14,
      "metadata": {
        "id": "yWGNyNJtuR_q",
        "colab": {
          "base_uri": "https://localhost:8080/"
        },
        "outputId": "0715ec65-76b8-4c84-d1fe-4b281f2ffa80"
      },
      "outputs": [
        {
          "output_type": "stream",
          "name": "stdout",
          "text": [
            "[24  6 25 20  8 26  4 38 10  5]\n",
            "[22  4 23 18  6 24  2 36  8  3]\n",
            "[ 72  18  75  60  24  78  12 114  30  15]\n",
            "[12.   3.  12.5 10.   4.  13.   2.  19.   5.   2.5]\n",
            "[28 10 29 24 12 30  8 42 14  9]\n"
          ]
        }
      ],
      "source": [
        "import numpy as np\n",
        "\n",
        "np.random.seed(32)\n",
        "a1 = np.random.randint(1,40,10) # gera 30 números aleatórios inteiros entre 1 e 40 \n",
        "print(a1)\n",
        "print(a1 - 2) \n",
        "print(a1 * 3)\n",
        "print(a1 / 2)\n",
        "print(a1 + 4)"
      ]
    },
    {
      "cell_type": "markdown",
      "source": [
        "#### Operações entre arrays "
      ],
      "metadata": {
        "id": "Ybs1WG7OxnQe"
      }
    },
    {
      "cell_type": "code",
      "source": [
        "a2 = np.random.randint(1,100,10)\n",
        "a1 = np.random.randint(1,40,10)\n",
        "print(a1)\n",
        "print(a2)\n",
        "print('\\n')\n",
        "soma_array = a1 + a2\n",
        "print(soma_array)\n",
        "\n",
        "#OBS: OS ARRAYS PRECISAM TER MESMO TAMANHO!\n",
        "# EXCETO PARA MULTIPLICAÇÃO DE MATRIZES "
      ],
      "metadata": {
        "colab": {
          "base_uri": "https://localhost:8080/"
        },
        "id": "28mQqmP6xros",
        "outputId": "addefb5b-f546-449f-c9b0-16a846fc4560"
      },
      "execution_count": 24,
      "outputs": [
        {
          "output_type": "stream",
          "name": "stdout",
          "text": [
            "[ 1 31 37 23 16 15 36 11 34 10]\n",
            "[78 38 75 48 69  6 10 11 85 32]\n",
            "\n",
            "\n",
            "[ 79  69 112  71  85  21  46  22 119  42]\n"
          ]
        }
      ]
    },
    {
      "cell_type": "code",
      "source": [
        "multiplica = a1*a2\n",
        "print(multiplica)"
      ],
      "metadata": {
        "colab": {
          "base_uri": "https://localhost:8080/"
        },
        "id": "z50Sj86KzAF_",
        "outputId": "20e4a6fe-4bc5-4241-ed34-a5429b2b9605"
      },
      "execution_count": 26,
      "outputs": [
        {
          "output_type": "stream",
          "name": "stdout",
          "text": [
            "[  78 1178 2775 1104 1104   90  360  121 2890  320]\n"
          ]
        }
      ]
    },
    {
      "cell_type": "code",
      "source": [
        "subtra = a1-a2\n",
        "print(subtra)"
      ],
      "metadata": {
        "colab": {
          "base_uri": "https://localhost:8080/"
        },
        "id": "KNRtfOZLzOpT",
        "outputId": "bb93bfec-d275-486a-9ba1-d20bb56e4001"
      },
      "execution_count": 27,
      "outputs": [
        {
          "output_type": "stream",
          "name": "stdout",
          "text": [
            "[-77  -7 -38 -25 -53   9  26   0 -51 -22]\n"
          ]
        }
      ]
    },
    {
      "cell_type": "code",
      "source": [
        "divide =a1 / a2\n",
        "print(divide)"
      ],
      "metadata": {
        "colab": {
          "base_uri": "https://localhost:8080/"
        },
        "id": "Sn9U4WawzY5V",
        "outputId": "62caa114-3807-4806-f3de-ccad98bf6f76"
      },
      "execution_count": 29,
      "outputs": [
        {
          "output_type": "stream",
          "name": "stdout",
          "text": [
            "[0.01282051 0.81578947 0.49333333 0.47916667 0.23188406 2.5\n",
            " 3.6        1.         0.4        0.3125    ]\n"
          ]
        }
      ]
    },
    {
      "cell_type": "markdown",
      "source": [
        "#### Multiplicação entre matrizes "
      ],
      "metadata": {
        "id": "NjmwNsPm1YMk"
      }
    },
    {
      "cell_type": "code",
      "source": [
        "# (3x2)*(2,3)=(3,3) \n",
        "# Na multiplicação de matrizes o numero de linhas da primeira matriz tem que ser igual ao número de colunas da segunda matriz\n",
        "\n",
        "m1 = np.random.randint(1,50,(3,2))\n",
        "print(m1)\n",
        "\n",
        "print('\\n')\n",
        "\n",
        "m2 = np.random.randint(1,50,(2,3))\n",
        "print(m2)\n",
        "\n",
        "m1.dot(m2) # método que calcula matriz\n"
      ],
      "metadata": {
        "colab": {
          "base_uri": "https://localhost:8080/"
        },
        "id": "Y8axozlF1hvW",
        "outputId": "0171d7f9-8622-4fb2-bb80-7a9fc6d02ebd"
      },
      "execution_count": 35,
      "outputs": [
        {
          "output_type": "stream",
          "name": "stdout",
          "text": [
            "[[25  1]\n",
            " [41 28]\n",
            " [ 6 48]]\n",
            "\n",
            "\n",
            "[[31 33 47]\n",
            " [23 34 35]]\n"
          ]
        },
        {
          "output_type": "execute_result",
          "data": {
            "text/plain": [
              "array([[ 798,  859, 1210],\n",
              "       [1915, 2305, 2907],\n",
              "       [1290, 1830, 1962]])"
            ]
          },
          "metadata": {},
          "execution_count": 35
        }
      ]
    },
    {
      "cell_type": "markdown",
      "source": [
        "#### Comparações "
      ],
      "metadata": {
        "id": "o6HEaM_n3cjU"
      }
    },
    {
      "cell_type": "code",
      "source": [
        "mc = np.array([1,2,3,4])\n",
        "md = np.array([4,2,3,4])\n",
        "\n",
        "mc == md\n"
      ],
      "metadata": {
        "colab": {
          "base_uri": "https://localhost:8080/"
        },
        "id": "IfMk94Im3fac",
        "outputId": "8408598e-1673-4c7f-e4bb-3461b191de24"
      },
      "execution_count": 40,
      "outputs": [
        {
          "output_type": "execute_result",
          "data": {
            "text/plain": [
              "array([False,  True,  True,  True])"
            ]
          },
          "metadata": {},
          "execution_count": 40
        }
      ]
    },
    {
      "cell_type": "code",
      "source": [
        "# ou:\n",
        "\n",
        "np.array_equal(mc,md)"
      ],
      "metadata": {
        "colab": {
          "base_uri": "https://localhost:8080/"
        },
        "id": "f64echsf5vBI",
        "outputId": "e8c3784c-eb8f-4c9c-b45f-13b3ec03f194"
      },
      "execution_count": 42,
      "outputs": [
        {
          "output_type": "execute_result",
          "data": {
            "text/plain": [
              "False"
            ]
          },
          "metadata": {},
          "execution_count": 42
        }
      ]
    },
    {
      "cell_type": "code",
      "source": [
        "np.sin(md)"
      ],
      "metadata": {
        "colab": {
          "base_uri": "https://localhost:8080/"
        },
        "id": "KZKL0-PL6Yhl",
        "outputId": "6c3425bd-a683-432e-d74b-a541f2397488"
      },
      "execution_count": 46,
      "outputs": [
        {
          "output_type": "execute_result",
          "data": {
            "text/plain": [
              "array([-0.7568025 ,  0.90929743,  0.14112001, -0.7568025 ])"
            ]
          },
          "metadata": {},
          "execution_count": 46
        }
      ]
    },
    {
      "cell_type": "markdown",
      "source": [
        "[Mathematical functions](https://numpy.org/doc/1.18/reference/routines.math.html)"
      ],
      "metadata": {
        "id": "3SL_x0OU7Vxn"
      }
    }
  ]
}