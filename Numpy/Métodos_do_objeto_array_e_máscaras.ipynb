{
  "nbformat": 4,
  "nbformat_minor": 0,
  "metadata": {
    "colab": {
      "name": "Métodos_do_objeto_array_e_máscaras.ipynb",
      "provenance": [],
      "authorship_tag": "ABX9TyMdLXymtQ3lUWFcjnpyZEE8",
      "include_colab_link": true
    },
    "kernelspec": {
      "name": "python3",
      "display_name": "Python 3"
    },
    "language_info": {
      "name": "python"
    }
  },
  "cells": [
    {
      "cell_type": "markdown",
      "metadata": {
        "id": "view-in-github",
        "colab_type": "text"
      },
      "source": [
        "<a href=\"https://colab.research.google.com/github/AlyssonBatista/Codigos-python/blob/main/M%C3%A9todos_do_objeto_array_e_m%C3%A1scaras.ipynb\" target=\"_parent\"><img src=\"https://colab.research.google.com/assets/colab-badge.svg\" alt=\"Open In Colab\"/></a>"
      ]
    },
    {
      "cell_type": "markdown",
      "source": [
        "# Métodos importantes array"
      ],
      "metadata": {
        "id": "lJpE9PCc-BnJ"
      }
    },
    {
      "cell_type": "code",
      "execution_count": 21,
      "metadata": {
        "colab": {
          "base_uri": "https://localhost:8080/"
        },
        "id": "G8Av-GNT9rrY",
        "outputId": "824e4ae8-e4c8-4725-8004-7f16ad9a91a4"
      },
      "outputs": [
        {
          "output_type": "execute_result",
          "data": {
            "text/plain": [
              "array([-0.4267449 , -0.46823059,  0.20349333, -0.4452106 , -0.52971032,\n",
              "       -0.17675522, -1.44062069, -0.24910702, -0.07999033, -0.56560866])"
            ]
          },
          "metadata": {},
          "execution_count": 21
        }
      ],
      "source": [
        "import numpy as np\n",
        "\n",
        "ar = np.random.randn(10)\n",
        "ar"
      ]
    },
    {
      "cell_type": "code",
      "source": [
        "ma = np.random.randn(3,3)\n",
        "ma"
      ],
      "metadata": {
        "colab": {
          "base_uri": "https://localhost:8080/"
        },
        "id": "hdfs6-c9_Q9o",
        "outputId": "fa82992b-0674-4c22-b972-4d5ba9805ed2"
      },
      "execution_count": 22,
      "outputs": [
        {
          "output_type": "execute_result",
          "data": {
            "text/plain": [
              "array([[-0.11348013,  1.04983129,  1.43651944],\n",
              "       [-0.79732884,  0.28544047,  0.21194447],\n",
              "       [ 1.04578619,  0.77274401,  1.98900887]])"
            ]
          },
          "metadata": {},
          "execution_count": 22
        }
      ]
    },
    {
      "cell_type": "code",
      "source": [
        "print(ar.ndim) # Diz a dimensão do array ou matriz\n",
        "print(ma.ndim)"
      ],
      "metadata": {
        "colab": {
          "base_uri": "https://localhost:8080/"
        },
        "id": "F5hGywRsAKJi",
        "outputId": "a51f578a-973f-4494-bc5b-53b657fa39cc"
      },
      "execution_count": 25,
      "outputs": [
        {
          "output_type": "stream",
          "name": "stdout",
          "text": [
            "1\n",
            "2\n"
          ]
        }
      ]
    },
    {
      "cell_type": "code",
      "source": [
        "print(ar.shape) # Retorna o formato do array \n",
        "print(ma.shape)"
      ],
      "metadata": {
        "colab": {
          "base_uri": "https://localhost:8080/"
        },
        "id": "GIZ1wQzGAp_3",
        "outputId": "b6621b63-dafa-4dd5-ba00-93457ce270bc"
      },
      "execution_count": 27,
      "outputs": [
        {
          "output_type": "stream",
          "name": "stdout",
          "text": [
            "(10,)\n",
            "(3, 3)\n"
          ]
        }
      ]
    },
    {
      "cell_type": "code",
      "source": [
        "print(ar.dtype) # Retorna o tipo de array \n",
        "print(ma.dtype)"
      ],
      "metadata": {
        "colab": {
          "base_uri": "https://localhost:8080/"
        },
        "id": "k561mh1ABNWp",
        "outputId": "ef42182c-0dcd-422e-c377-faf9b1641d49"
      },
      "execution_count": 29,
      "outputs": [
        {
          "output_type": "stream",
          "name": "stdout",
          "text": [
            "float64\n",
            "float64\n"
          ]
        }
      ]
    },
    {
      "cell_type": "code",
      "source": [
        "print(ar.astype('int')) # asstype ignora os valores depois da virgula retornando apena o inteiro\n",
        "print(ma.astype('int'))"
      ],
      "metadata": {
        "colab": {
          "base_uri": "https://localhost:8080/"
        },
        "id": "mzCO5fvvB-e4",
        "outputId": "f5e48d96-fe62-491c-8e7b-d6e84562f50f"
      },
      "execution_count": 31,
      "outputs": [
        {
          "output_type": "stream",
          "name": "stdout",
          "text": [
            "[ 0  0  0  0  0  0 -1  0  0  0]\n",
            "[[0 1 1]\n",
            " [0 0 0]\n",
            " [1 0 1]]\n"
          ]
        }
      ]
    },
    {
      "cell_type": "code",
      "source": [
        "print(ar.astype('bool')) # asstype retorna True se o número != 0 e False se número == 0\n",
        "print(ma.astype('bool'))"
      ],
      "metadata": {
        "colab": {
          "base_uri": "https://localhost:8080/"
        },
        "id": "RzclRSy8CoIR",
        "outputId": "82b56eec-3c5a-4b28-b3d3-942dc68161c7"
      },
      "execution_count": 32,
      "outputs": [
        {
          "output_type": "stream",
          "name": "stdout",
          "text": [
            "[ True  True  True  True  True  True  True  True  True  True]\n",
            "[[ True  True  True]\n",
            " [ True  True  True]\n",
            " [ True  True  True]]\n"
          ]
        }
      ]
    },
    {
      "cell_type": "code",
      "source": [
        "print(ar.min()) # retorna o menor número do array ou matriz\n",
        "print(ma.min())"
      ],
      "metadata": {
        "colab": {
          "base_uri": "https://localhost:8080/"
        },
        "id": "wKjaphDNDkWq",
        "outputId": "9a9e7c65-ed80-4149-9765-ec10559ce64d"
      },
      "execution_count": 37,
      "outputs": [
        {
          "output_type": "stream",
          "name": "stdout",
          "text": [
            "-1.4406206937020163\n",
            "-0.7973288408915362\n"
          ]
        }
      ]
    },
    {
      "cell_type": "code",
      "source": [
        "print(ar.max()) # retorna o maior número do array ou matriz\n",
        "print(ma.max())"
      ],
      "metadata": {
        "colab": {
          "base_uri": "https://localhost:8080/"
        },
        "id": "L5sk2TCBD8QJ",
        "outputId": "7442ef1e-c032-4107-f4d6-df81feb6bc01"
      },
      "execution_count": 38,
      "outputs": [
        {
          "output_type": "stream",
          "name": "stdout",
          "text": [
            "0.20349332808408663\n",
            "1.9890088744113323\n"
          ]
        }
      ]
    },
    {
      "cell_type": "code",
      "source": [
        "print(ar.argmin()) # retorna a posição que está o menor elemento do array ou matriz\n",
        "print(ma.argmin())"
      ],
      "metadata": {
        "colab": {
          "base_uri": "https://localhost:8080/"
        },
        "id": "VI2VS0WEELpx",
        "outputId": "838f23e8-faf2-4727-f06f-be3823b0ca71"
      },
      "execution_count": 42,
      "outputs": [
        {
          "output_type": "stream",
          "name": "stdout",
          "text": [
            "6\n",
            "3\n"
          ]
        }
      ]
    },
    {
      "cell_type": "code",
      "source": [
        "print(ar.argmax()) # retorna a posição que está o maior elemento do array ou matriz\n",
        "print(ma.argmax())"
      ],
      "metadata": {
        "colab": {
          "base_uri": "https://localhost:8080/"
        },
        "id": "Yh53bXhuEfWC",
        "outputId": "e579734a-63b4-4924-a808-505da2cf5d60"
      },
      "execution_count": 43,
      "outputs": [
        {
          "output_type": "stream",
          "name": "stdout",
          "text": [
            "2\n",
            "8\n"
          ]
        }
      ]
    },
    {
      "cell_type": "code",
      "source": [
        "print(ar.mean()) # retorna a média dos elementos do array ou matriz\n",
        "print(ma.mean())"
      ],
      "metadata": {
        "colab": {
          "base_uri": "https://localhost:8080/"
        },
        "id": "LXToROkvEuk6",
        "outputId": "d696ca83-56be-421b-fdd0-cc46eae102c8"
      },
      "execution_count": 47,
      "outputs": [
        {
          "output_type": "stream",
          "name": "stdout",
          "text": [
            "-0.41784850031050225\n",
            "0.6533850861997357\n"
          ]
        }
      ]
    },
    {
      "cell_type": "code",
      "source": [
        "print(ar.sum()) # retorna a soma dos elementos do array ou matriz\n",
        "print(ma.sum())"
      ],
      "metadata": {
        "colab": {
          "base_uri": "https://localhost:8080/"
        },
        "id": "S4KTMtbpFEax",
        "outputId": "316bbe81-407c-46c4-e2b5-d0edaabf0c6b"
      },
      "execution_count": 48,
      "outputs": [
        {
          "output_type": "stream",
          "name": "stdout",
          "text": [
            "-4.178485003105022\n",
            "5.880465775797621\n"
          ]
        }
      ]
    },
    {
      "cell_type": "code",
      "source": [
        "print(ar.var()) # retorna a variância dos elementos do array ou matriz\n",
        "print(ma.var())"
      ],
      "metadata": {
        "colab": {
          "base_uri": "https://localhost:8080/"
        },
        "id": "Vy-mKPGlFNTR",
        "outputId": "64c691cb-32dd-4b23-fda5-f12bc61fcaa9"
      },
      "execution_count": 49,
      "outputs": [
        {
          "output_type": "stream",
          "name": "stdout",
          "text": [
            "0.16705887405345096\n",
            "0.6383879214436418\n"
          ]
        }
      ]
    },
    {
      "cell_type": "code",
      "source": [
        "print(ar.std()) # retorna a desvio padrão dos elementos do array ou matriz\n",
        "print(ma.std())"
      ],
      "metadata": {
        "colab": {
          "base_uri": "https://localhost:8080/"
        },
        "id": "qIgU4vQwFZwh",
        "outputId": "b5365c65-52f4-4ee4-b421-c5f9f7c2f35f"
      },
      "execution_count": 50,
      "outputs": [
        {
          "output_type": "stream",
          "name": "stdout",
          "text": [
            "0.4087283621837992\n",
            "0.7989918156299486\n"
          ]
        }
      ]
    },
    {
      "cell_type": "code",
      "source": [
        "print(np.sort(ar)) # sort ordena do menor para o maior\n",
        "print(np.sort(ma))"
      ],
      "metadata": {
        "colab": {
          "base_uri": "https://localhost:8080/"
        },
        "id": "4-ciZAp3Fy76",
        "outputId": "3a06bbed-2df2-4519-95a2-f9ba6657be13"
      },
      "execution_count": 54,
      "outputs": [
        {
          "output_type": "stream",
          "name": "stdout",
          "text": [
            "[-1.44062069 -0.56560866 -0.52971032 -0.46823059 -0.4452106  -0.4267449\n",
            " -0.24910702 -0.17675522 -0.07999033  0.20349333]\n",
            "[[-0.11348013  1.04983129  1.43651944]\n",
            " [-0.79732884  0.21194447  0.28544047]\n",
            " [ 0.77274401  1.04578619  1.98900887]]\n"
          ]
        }
      ]
    },
    {
      "cell_type": "code",
      "source": [
        "print(ma.T) # Retorna a transposta da matriz "
      ],
      "metadata": {
        "colab": {
          "base_uri": "https://localhost:8080/"
        },
        "id": "pcRrIN2fGO7L",
        "outputId": "c46a7e6c-74a8-4d45-c5a1-fad170cbabf1"
      },
      "execution_count": 57,
      "outputs": [
        {
          "output_type": "stream",
          "name": "stdout",
          "text": [
            "[[-0.11348013 -0.79732884  1.04578619]\n",
            " [ 1.04983129  0.28544047  0.77274401]\n",
            " [ 1.43651944  0.21194447  1.98900887]]\n",
            "[-0.4267449  -0.46823059  0.20349333 -0.4452106  -0.52971032 -0.17675522\n",
            " -1.44062069 -0.24910702 -0.07999033 -0.56560866]\n"
          ]
        }
      ]
    },
    {
      "cell_type": "markdown",
      "source": [
        "# Máscaras "
      ],
      "metadata": {
        "id": "8nzMzqbd-M5_"
      }
    },
    {
      "cell_type": "code",
      "source": [
        "a = np.array([1,2,3,4,5,6]) \n",
        "a\n",
        "a[[False,False,False,True,True,True]] # A máscara retorna os elementos verdadeiros "
      ],
      "metadata": {
        "colab": {
          "base_uri": "https://localhost:8080/"
        },
        "id": "Ps4GAPADHzAw",
        "outputId": "a5f2d5fc-6752-4e3b-9c28-218c71c59863"
      },
      "execution_count": 66,
      "outputs": [
        {
          "output_type": "execute_result",
          "data": {
            "text/plain": [
              "array([4, 5, 6])"
            ]
          },
          "metadata": {},
          "execution_count": 66
        }
      ]
    },
    {
      "cell_type": "code",
      "source": [
        "a <= 3 # Os elementos menores ou iguais a 3 ficam verdadeiros "
      ],
      "metadata": {
        "colab": {
          "base_uri": "https://localhost:8080/"
        },
        "id": "Wp1RHkG_J4nz",
        "outputId": "a5887e4b-a29c-4d16-861a-d60edf439a9a"
      },
      "execution_count": 68,
      "outputs": [
        {
          "output_type": "execute_result",
          "data": {
            "text/plain": [
              "array([ True,  True,  True, False, False, False])"
            ]
          },
          "metadata": {},
          "execution_count": 68
        }
      ]
    },
    {
      "cell_type": "code",
      "source": [
        "a[a<=3] # A máscara retorna os elementos do array que são menores ou iguais a 3"
      ],
      "metadata": {
        "colab": {
          "base_uri": "https://localhost:8080/"
        },
        "id": "CthH_QddJfET",
        "outputId": "1d596bc9-bcea-4397-dfdb-d7961dfebd7a"
      },
      "execution_count": 67,
      "outputs": [
        {
          "output_type": "execute_result",
          "data": {
            "text/plain": [
              "array([1, 2, 3])"
            ]
          },
          "metadata": {},
          "execution_count": 67
        }
      ]
    },
    {
      "cell_type": "code",
      "source": [
        "a % 2 == 0 #  A máscara retorna verdadeiro para os elementos onde a condição é satisfeita"
      ],
      "metadata": {
        "colab": {
          "base_uri": "https://localhost:8080/"
        },
        "id": "xH_b5C1eKPBX",
        "outputId": "80a85ec2-a748-4297-b675-f727cca1e8b2"
      },
      "execution_count": 69,
      "outputs": [
        {
          "output_type": "execute_result",
          "data": {
            "text/plain": [
              "array([False,  True, False,  True, False,  True])"
            ]
          },
          "metadata": {},
          "execution_count": 69
        }
      ]
    },
    {
      "cell_type": "code",
      "source": [
        "a[a % 2 == 0] "
      ],
      "metadata": {
        "colab": {
          "base_uri": "https://localhost:8080/"
        },
        "id": "6K1uwy1MKhGa",
        "outputId": "0d2088ac-4e75-4b24-9788-fbf594e21d12"
      },
      "execution_count": 70,
      "outputs": [
        {
          "output_type": "execute_result",
          "data": {
            "text/plain": [
              "array([2, 4, 6])"
            ]
          },
          "metadata": {},
          "execution_count": 70
        }
      ]
    }
  ]
}