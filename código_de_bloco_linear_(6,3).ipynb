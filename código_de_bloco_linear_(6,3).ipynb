{
  "nbformat": 4,
  "nbformat_minor": 0,
  "metadata": {
    "colab": {
      "name": "código de bloco linear (6,3).ipynb",
      "provenance": [],
      "authorship_tag": "ABX9TyMvjLgFr8z8ccASmkri4zcz",
      "include_colab_link": true
    },
    "kernelspec": {
      "name": "python3",
      "display_name": "Python 3"
    },
    "language_info": {
      "name": "python"
    }
  },
  "cells": [
    {
      "cell_type": "markdown",
      "metadata": {
        "id": "view-in-github",
        "colab_type": "text"
      },
      "source": [
        "<a href=\"https://colab.research.google.com/github/AlyssonBatista/Codigos-python/blob/main/c%C3%B3digo_de_bloco_linear_(6%2C3).ipynb\" target=\"_parent\"><img src=\"https://colab.research.google.com/assets/colab-badge.svg\" alt=\"Open In Colab\"/></a>"
      ]
    },
    {
      "cell_type": "code",
      "execution_count": 284,
      "metadata": {
        "colab": {
          "base_uri": "https://localhost:8080/"
        },
        "id": "vPWi9co9YkMC",
        "outputId": "2b4f3bb0-9b62-4670-d4f1-e0b2c90afa7f"
      },
      "outputs": [
        {
          "output_type": "stream",
          "name": "stdout",
          "text": [
            "Matriz G geradora\n",
            " [1 0 0 1 0 1]  \n",
            " [0 1 0 0 1 1]  \n",
            " [0 0 1 1 1 0]\n",
            "\n",
            "\n",
            "Matriz verificadora de paridade transposta H^T\n",
            " [1 0 1]  \n",
            " [0 1 1]  \n",
            " [1 1 0]  \n",
            " [1 0 0]  \n",
            " [0 1 0]  \n",
            " [0 0 1]\n",
            "\n",
            "\n",
            "Lista E de erros corrigíveis\n",
            " [1 0 0 0 0 0]  \n",
            " [0 1 0 0 0 0]  \n",
            " [0 0 1 0 0 0]  \n",
            " [0 0 0 1 0 0]  \n",
            " [0 0 0 0 1 0]  \n",
            " [0 0 0 0 0 1]\n",
            "\n",
            "\n",
            "Sindrome Padrão de erro\n",
            "[1 0 1]  [1 0 0 0 0 0]\n",
            "[0 1 1]  [0 1 0 0 0 0]\n",
            "[1 1 0]  [0 0 1 0 0 0]\n",
            "[1 0 0]  [0 0 0 1 0 0]\n",
            "[0 1 0]  [0 0 0 0 1 0]\n",
            "[0 0 1]  [0 0 0 0 0 1]\n",
            "\n",
            "\n",
            "Palavra código recebida [1 1 1 0 1 1]\n",
            "Sindrome [0 1 1]\n",
            "Padrão de erro [0 1 0 0 0 0]\n",
            "Palavra corrigida [1 0 1 0 1 1]\n"
          ]
        }
      ],
      "source": [
        "import math\n",
        "import numpy as np\n",
        "\n",
        "G = np.array([[1,0,0,1,0,1],[0,1,0,0,1,1],[0,0,1,1,1,0]])\n",
        "print('Matriz G geradora')                                                                               # Matriz geradora\n",
        "print('',G[0] ,' \\n',G[1],' \\n',G[2])\n",
        "\n",
        "print('\\n')\n",
        "print('Matriz verificadora de paridade transposta H^T')\n",
        "H = np.array([[1,0,1],[0,1,1],[1,1,0],[1,0,0],[0,1,0],[0,0,1]]);                                         # matriz verificadora de paridade transposta H^T\n",
        "print('',H[0] ,' \\n',H[1],' \\n',H[2],' \\n',H[3],' \\n',H[4],' \\n',H[5])\n",
        "\n",
        "print('\\n')\n",
        "print('Lista E de erros corrigíveis')\n",
        "E = np.array([[1,0,0,0,0,0],[0,1,0,0,0,0],[0,0,1,0,0,0],[0,0,0,1,0,0],[0,0,0,0,1,0],[0,0,0,0,0,1]]);     # Lista de erros corrigíveis\n",
        "print('',E[0] ,' \\n',E[1],' \\n',E[2],' \\n',E[3],' \\n',E[4],' \\n',E[5])\n",
        "\n",
        "K = np.size(E)/np.size(E, axis=1) \n",
        "\n",
        "sindrome = (E.dot(H)) % 2                                                                                # Localiza Lista de Síndromes\n",
        "\n",
        "r = np.array([1,1,1,0,1,1]);\n",
        "print('\\n')\n",
        "print(f'Sindrome','Padrão de erro')\n",
        "\n",
        "for i in range(6):\n",
        "    print(sindrome[i],'',E[i])\n",
        " \n",
        "\n",
        "x_aux = []\n",
        "for i in range(len(H)):\n",
        "    xmult =  r[i] * H[i]\n",
        "    x_aux.append(xmult)\n",
        "x_array = np.asarray(x_aux)\n",
        "soma = x_array.cumsum(axis=0)\t\n",
        "x = soma[5]% 2\n",
        "\n",
        "for i in range(6):\n",
        "    idxe = all(sindrome[i] == x)\n",
        "    if idxe==True:\n",
        "        idxe = i\n",
        "        break;\n",
        "\n",
        "sindrome = sindrome[idxe,:]\n",
        "erro = E[idxe,:]\n",
        "palavra_corrigida = np.logical_xor(r,erro); \n",
        "palavra_corrigida = palavra_corrigida*1\n",
        "\n",
        "\n",
        "print('\\n')\n",
        "print(f'Palavra código recebida',r)\n",
        "print(f'Sindrome',sindrome )\n",
        "print(f'Padrão de erro',erro)\n",
        "print(f'Palavra corrigida',palavra_corrigida)"
      ]
    }
  ]
}