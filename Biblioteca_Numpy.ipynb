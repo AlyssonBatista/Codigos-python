{
  "nbformat": 4,
  "nbformat_minor": 0,
  "metadata": {
    "colab": {
      "name": "Biblioteca_Numpy.ipynb",
      "provenance": [],
      "authorship_tag": "ABX9TyM1i3bCAznWqsv3fzhbdNKT",
      "include_colab_link": true
    },
    "kernelspec": {
      "name": "python3",
      "display_name": "Python 3"
    },
    "language_info": {
      "name": "python"
    }
  },
  "cells": [
    {
      "cell_type": "markdown",
      "metadata": {
        "id": "view-in-github",
        "colab_type": "text"
      },
      "source": [
        "<a href=\"https://colab.research.google.com/github/AlyssonBatista/Codigos-python/blob/main/Biblioteca_Numpy.ipynb\" target=\"_parent\"><img src=\"https://colab.research.google.com/assets/colab-badge.svg\" alt=\"Open In Colab\"/></a>"
      ]
    },
    {
      "cell_type": "markdown",
      "source": [
        "# Biblioteca numpy"
      ],
      "metadata": {
        "id": "nuKnpdsP4Ei8"
      }
    },
    {
      "cell_type": "markdown",
      "source": [
        "##### Exemplo de criação de um array numpy"
      ],
      "metadata": {
        "id": "ubCsxTml5_Ht"
      }
    },
    {
      "cell_type": "code",
      "execution_count": 5,
      "metadata": {
        "colab": {
          "base_uri": "https://localhost:8080/"
        },
        "id": "eFKGNziG4CxQ",
        "outputId": "252a6976-1f2c-4e81-ccdc-ee652fe6b398"
      },
      "outputs": [
        {
          "output_type": "stream",
          "name": "stdout",
          "text": [
            "[1 2 3 4 5 6 6]\n",
            "<class 'numpy.ndarray'>\n"
          ]
        }
      ],
      "source": [
        "import numpy as np\n",
        "\n",
        "a = np.array([1,2,3,4,5,6,6])\n",
        "\n",
        "print(a)\n",
        "print(type(a))"
      ]
    },
    {
      "cell_type": "markdown",
      "source": [
        "##### Array bidimensional"
      ],
      "metadata": {
        "id": "qk7QA6xB5-fJ"
      }
    },
    {
      "cell_type": "code",
      "source": [
        "b = np.array([[1,2,3],[4,5,6],[7,8,9]])\n",
        "\n",
        "print(b)"
      ],
      "metadata": {
        "colab": {
          "base_uri": "https://localhost:8080/"
        },
        "id": "YE8tWmOR6u2y",
        "outputId": "29660151-f0ac-48cd-fb8f-da04ef949728"
      },
      "execution_count": 9,
      "outputs": [
        {
          "output_type": "stream",
          "name": "stdout",
          "text": [
            "[[1 2 3]\n",
            " [4 5 6]\n",
            " [7 8 9]]\n"
          ]
        }
      ]
    },
    {
      "cell_type": "markdown",
      "source": [
        "##### Principais métodos "
      ],
      "metadata": {
        "id": "VSop8Tmn71MI"
      }
    },
    {
      "cell_type": "code",
      "source": [
        "print(b.ndim) # Nos informa a dimensão do array\n",
        "\n",
        "print(a.ndim)"
      ],
      "metadata": {
        "colab": {
          "base_uri": "https://localhost:8080/"
        },
        "id": "VI2diD3T7zSK",
        "outputId": "1f485d97-7594-4015-b970-9e560fc38095"
      },
      "execution_count": 12,
      "outputs": [
        {
          "output_type": "stream",
          "name": "stdout",
          "text": [
            "2\n",
            "1\n"
          ]
        }
      ]
    },
    {
      "cell_type": "code",
      "source": [
        "print(b.shape) # numero de linhas e colunas"
      ],
      "metadata": {
        "colab": {
          "base_uri": "https://localhost:8080/"
        },
        "id": "e9aeDilKP6SS",
        "outputId": "2204fe88-75ba-44a0-80f7-b097f73e57e5"
      },
      "execution_count": 13,
      "outputs": [
        {
          "output_type": "stream",
          "name": "stdout",
          "text": [
            "(3, 3)\n"
          ]
        }
      ]
    },
    {
      "cell_type": "code",
      "source": [
        "print(len(b)) # OBS: len só retornar o numero de linhas"
      ],
      "metadata": {
        "colab": {
          "base_uri": "https://localhost:8080/"
        },
        "id": "0bRq8jKtQA2g",
        "outputId": "ff7068e7-941c-482e-bef3-3e7096d9229d"
      },
      "execution_count": 14,
      "outputs": [
        {
          "output_type": "stream",
          "name": "stdout",
          "text": [
            "3\n"
          ]
        }
      ]
    },
    {
      "cell_type": "code",
      "source": [
        "c=np.arange(0,151,3) # Cria um array com inicio(0) fim(151) e passo(3)\n",
        "print(c)"
      ],
      "metadata": {
        "colab": {
          "base_uri": "https://localhost:8080/"
        },
        "id": "IXbjteBhQs5R",
        "outputId": "c607aacb-7002-496b-9dcd-8d3a6937bdf5"
      },
      "execution_count": 16,
      "outputs": [
        {
          "output_type": "stream",
          "name": "stdout",
          "text": [
            "[  0   3   6   9  12  15  18  21  24  27  30  33  36  39  42  45  48  51\n",
            "  54  57  60  63  66  69  72  75  78  81  84  87  90  93  96  99 102 105\n",
            " 108 111 114 117 120 123 126 129 132 135 138 141 144 147 150]\n"
          ]
        }
      ]
    },
    {
      "cell_type": "code",
      "source": [
        "d = np.arange(10) #  Com um paramnetro ele retorna um array de 0 até 9 com passo 1\n",
        "print(d)"
      ],
      "metadata": {
        "colab": {
          "base_uri": "https://localhost:8080/"
        },
        "id": "6afDjesBSKs-",
        "outputId": "e92cf2e4-3854-428a-e970-9c5ee0244995"
      },
      "execution_count": 18,
      "outputs": [
        {
          "output_type": "stream",
          "name": "stdout",
          "text": [
            "[0 1 2 3 4 5 6 7 8 9]\n"
          ]
        }
      ]
    },
    {
      "cell_type": "code",
      "source": [
        "e=np.arange(2,10) # Com dois parametros retorna um array com inicio(2) e fim(10) não inclui o último número\n",
        "print(e)"
      ],
      "metadata": {
        "colab": {
          "base_uri": "https://localhost:8080/"
        },
        "id": "1l9706KuSlCX",
        "outputId": "7d866579-d553-4d47-f59c-b2c517055394"
      },
      "execution_count": 20,
      "outputs": [
        {
          "output_type": "stream",
          "name": "stdout",
          "text": [
            "[2 3 4 5 6 7 8 9]\n"
          ]
        }
      ]
    },
    {
      "cell_type": "code",
      "source": [
        "f = np.linspace(1,15,10) # retorna um array com inicio(1) fim(15) e quantidade de elemnentos(10)\n",
        "print(f)"
      ],
      "metadata": {
        "colab": {
          "base_uri": "https://localhost:8080/"
        },
        "id": "nxpy4gr1UN6Z",
        "outputId": "f4d4c2f8-4135-4aac-fceb-fda51f14a0b3"
      },
      "execution_count": 32,
      "outputs": [
        {
          "output_type": "stream",
          "name": "stdout",
          "text": [
            "[ 1.          2.55555556  4.11111111  5.66666667  7.22222222  8.77777778\n",
            " 10.33333333 11.88888889 13.44444444 15.        ]\n"
          ]
        }
      ]
    },
    {
      "cell_type": "code",
      "source": [
        "g = np.linspace(1,10,10, endpoint=False) # não inclui o último número(10)\n",
        "print(g)"
      ],
      "metadata": {
        "colab": {
          "base_uri": "https://localhost:8080/"
        },
        "id": "6i4uf0eoVsGQ",
        "outputId": "fc370bc0-38f8-45b1-b24d-0b8cd3460f8e"
      },
      "execution_count": 35,
      "outputs": [
        {
          "output_type": "stream",
          "name": "stdout",
          "text": [
            "[1.  1.9 2.8 3.7 4.6 5.5 6.4 7.3 8.2 9.1]\n"
          ]
        }
      ]
    },
    {
      "cell_type": "code",
      "source": [
        "h = np.ones(4) # cria um array de 1's de uma dimensão \n",
        "print(h)"
      ],
      "metadata": {
        "colab": {
          "base_uri": "https://localhost:8080/"
        },
        "id": "7xSwYBZGW1K_",
        "outputId": "b5dc995e-b5d0-47a8-aff1-cb213114dd55"
      },
      "execution_count": 37,
      "outputs": [
        {
          "output_type": "stream",
          "name": "stdout",
          "text": [
            "[1. 1. 1. 1.]\n"
          ]
        }
      ]
    },
    {
      "cell_type": "code",
      "source": [
        "i = np.ones((4,5)) # cria um array de duas dimensões 4(número de linhas) 5(número de colunas)\n",
        "print(i)"
      ],
      "metadata": {
        "colab": {
          "base_uri": "https://localhost:8080/"
        },
        "id": "qo16JWHJXTJj",
        "outputId": "e36dec79-ee40-4aba-b313-76181064c584"
      },
      "execution_count": 42,
      "outputs": [
        {
          "output_type": "stream",
          "name": "stdout",
          "text": [
            "[[1. 1. 1. 1. 1.]\n",
            " [1. 1. 1. 1. 1.]\n",
            " [1. 1. 1. 1. 1.]\n",
            " [1. 1. 1. 1. 1.]]\n"
          ]
        }
      ]
    },
    {
      "cell_type": "code",
      "source": [
        "j= np.zeros((4,5))\n",
        "print(j)"
      ],
      "metadata": {
        "colab": {
          "base_uri": "https://localhost:8080/"
        },
        "id": "BNXlhernYCOS",
        "outputId": "b739e75b-ce83-400f-f1d7-f4ffa75dc65d"
      },
      "execution_count": 44,
      "outputs": [
        {
          "output_type": "stream",
          "name": "stdout",
          "text": [
            "[[0. 0. 0. 0. 0.]\n",
            " [0. 0. 0. 0. 0.]\n",
            " [0. 0. 0. 0. 0.]\n",
            " [0. 0. 0. 0. 0.]]\n"
          ]
        }
      ]
    },
    {
      "cell_type": "code",
      "source": [
        "h= np.random.rand(10,5) # Cria um array bidimensional de número aleatórios com número de linhas(10) e colunas(5)\n",
        "print(h)"
      ],
      "metadata": {
        "colab": {
          "base_uri": "https://localhost:8080/"
        },
        "id": "h_audCpeY3bs",
        "outputId": "6f75228b-4a32-4794-912f-2155ca486ea2"
      },
      "execution_count": 48,
      "outputs": [
        {
          "output_type": "stream",
          "name": "stdout",
          "text": [
            "[[0.56076756 0.40480686 0.34587579 0.42695114 0.38478524]\n",
            " [0.75975105 0.46896373 0.86092971 0.34869653 0.73036404]\n",
            " [0.88912696 0.03274634 0.26503058 0.2579538  0.87592625]\n",
            " [0.4066879  0.51586278 0.72866638 0.73457359 0.3033133 ]\n",
            " [0.90694687 0.82799164 0.03952139 0.77682607 0.93923391]\n",
            " [0.21609217 0.60272703 0.9299377  0.10429728 0.64709678]\n",
            " [0.52898809 0.99579222 0.56923823 0.75244361 0.32985186]\n",
            " [0.93107746 0.70915145 0.43137689 0.19837682 0.81931523]\n",
            " [0.46546615 0.17878537 0.052589   0.31883899 0.04574612]\n",
            " [0.54945346 0.71406131 0.43874339 0.58545182 0.69064244]]\n"
          ]
        }
      ]
    },
    {
      "cell_type": "code",
      "source": [
        "i=np.random.rand(10) # cria um array de némeros aleatórios com 10 elementos\n",
        "print(i)"
      ],
      "metadata": {
        "colab": {
          "base_uri": "https://localhost:8080/"
        },
        "id": "_bW9eKguZgy6",
        "outputId": "1e019cf0-d434-415d-8d20-1d44514db145"
      },
      "execution_count": 50,
      "outputs": [
        {
          "output_type": "stream",
          "name": "stdout",
          "text": [
            "[0.75154744 0.034729   0.02284107 0.39604345 0.75811025 0.44684064\n",
            " 0.23027664 0.58236287 0.31260446 0.62064021]\n"
          ]
        }
      ]
    },
    {
      "cell_type": "code",
      "source": [
        "k = np.eye(4) # cria uma matriz diagonal \n",
        "print(k)"
      ],
      "metadata": {
        "colab": {
          "base_uri": "https://localhost:8080/"
        },
        "id": "a9JCHINNaSeI",
        "outputId": "81ce90a4-335e-4d9e-f695-a8fcc0958663"
      },
      "execution_count": 51,
      "outputs": [
        {
          "output_type": "stream",
          "name": "stdout",
          "text": [
            "[[1. 0. 0. 0.]\n",
            " [0. 1. 0. 0.]\n",
            " [0. 0. 1. 0.]\n",
            " [0. 0. 0. 1.]]\n"
          ]
        }
      ]
    },
    {
      "cell_type": "code",
      "source": [
        "l= np.diag(np.array([1,2,3,4])) #insere os números na diagonal\n",
        "print(l)"
      ],
      "metadata": {
        "colab": {
          "base_uri": "https://localhost:8080/"
        },
        "id": "Y1HCzuMaa311",
        "outputId": "42d91c17-55a8-4e3b-ed18-bd8980d48532"
      },
      "execution_count": 53,
      "outputs": [
        {
          "output_type": "stream",
          "name": "stdout",
          "text": [
            "[[1 0 0 0]\n",
            " [0 2 0 0]\n",
            " [0 0 3 0]\n",
            " [0 0 0 4]]\n"
          ]
        }
      ]
    }
  ]
}