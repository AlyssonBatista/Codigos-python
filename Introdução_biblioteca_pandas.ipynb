{
  "nbformat": 4,
  "nbformat_minor": 0,
  "metadata": {
    "colab": {
      "name": "Introdução_biblioteca_pandas.ipynb",
      "provenance": [],
      "authorship_tag": "ABX9TyMMkQufoiVdi/j+XWYc2CkH",
      "include_colab_link": true
    },
    "kernelspec": {
      "name": "python3",
      "display_name": "Python 3"
    },
    "language_info": {
      "name": "python"
    }
  },
  "cells": [
    {
      "cell_type": "markdown",
      "metadata": {
        "id": "view-in-github",
        "colab_type": "text"
      },
      "source": [
        "<a href=\"https://colab.research.google.com/github/AlyssonBatista/Codigos-python/blob/main/Introdu%C3%A7%C3%A3o_biblioteca_pandas.ipynb\" target=\"_parent\"><img src=\"https://colab.research.google.com/assets/colab-badge.svg\" alt=\"Open In Colab\"/></a>"
      ]
    },
    {
      "cell_type": "markdown",
      "source": [
        "# introdução a bibbliteca pandas"
      ],
      "metadata": {
        "id": "0y7oK0y1Wn3M"
      }
    },
    {
      "cell_type": "code",
      "execution_count": null,
      "metadata": {
        "id": "6-VHvA-60hFW"
      },
      "outputs": [],
      "source": [
        "import numpy as np\n",
        "import pandas as pd"
      ]
    },
    {
      "cell_type": "markdown",
      "source": [
        "#### Series"
      ],
      "metadata": {
        "id": "UIFuvogaXEHU"
      }
    },
    {
      "cell_type": "code",
      "source": [
        "steps = pd.Series([2344,3454,5064,6545,4565])\n",
        "steps"
      ],
      "metadata": {
        "colab": {
          "base_uri": "https://localhost:8080/"
        },
        "id": "Q-SfI24YXLFF",
        "outputId": "91337dea-493a-4454-d644-510b2e49f9ea"
      },
      "execution_count": null,
      "outputs": [
        {
          "output_type": "execute_result",
          "data": {
            "text/plain": [
              "0    2344\n",
              "1    3454\n",
              "2    5064\n",
              "3    6545\n",
              "4    4565\n",
              "dtype: int64"
            ]
          },
          "metadata": {},
          "execution_count": 3
        }
      ]
    },
    {
      "cell_type": "code",
      "source": [
        "steps.values"
      ],
      "metadata": {
        "colab": {
          "base_uri": "https://localhost:8080/"
        },
        "id": "qU-hyKTNbcbf",
        "outputId": "f74b3bf1-a96a-4fde-9950-41ab82b48d59"
      },
      "execution_count": null,
      "outputs": [
        {
          "output_type": "execute_result",
          "data": {
            "text/plain": [
              "array([2344, 3454, 5064, 6545, 4565])"
            ]
          },
          "metadata": {},
          "execution_count": 4
        }
      ]
    },
    {
      "cell_type": "code",
      "source": [
        "steps.index # começa em 0 para em 5 com passo 1"
      ],
      "metadata": {
        "colab": {
          "base_uri": "https://localhost:8080/"
        },
        "id": "jIOMCuoebhml",
        "outputId": "e6f0b519-7d82-4acc-ad54-a87ee813c163"
      },
      "execution_count": null,
      "outputs": [
        {
          "output_type": "execute_result",
          "data": {
            "text/plain": [
              "RangeIndex(start=0, stop=5, step=1)"
            ]
          },
          "metadata": {},
          "execution_count": 5
        }
      ]
    },
    {
      "cell_type": "code",
      "source": [
        "from pandas._libs import index\n",
        "steps = pd.Series(data=[2344,3454,5064,6545,4565],index=['seg','ter','qua','qui','sex']) # altero os índicies da dos dados\n",
        "\n",
        "steps"
      ],
      "metadata": {
        "colab": {
          "base_uri": "https://localhost:8080/"
        },
        "id": "JLkupm_cb_xn",
        "outputId": "441fa44a-87b4-4d2f-b7bf-cb8b71bcb744"
      },
      "execution_count": null,
      "outputs": [
        {
          "output_type": "execute_result",
          "data": {
            "text/plain": [
              "seg    2344\n",
              "ter    3454\n",
              "qua    5064\n",
              "qui    6545\n",
              "sex    4565\n",
              "dtype: int64"
            ]
          },
          "metadata": {},
          "execution_count": 6
        }
      ]
    },
    {
      "cell_type": "code",
      "source": [
        "steps.describe()"
      ],
      "metadata": {
        "colab": {
          "base_uri": "https://localhost:8080/"
        },
        "id": "Y3dBH11kdGP1",
        "outputId": "0185d9bc-14b7-4323-ac44-225fa616b8ed"
      },
      "execution_count": null,
      "outputs": [
        {
          "output_type": "execute_result",
          "data": {
            "text/plain": [
              "count       5.000000\n",
              "mean     4394.400000\n",
              "std      1596.170511\n",
              "min      2344.000000\n",
              "25%      3454.000000\n",
              "50%      4565.000000\n",
              "75%      5064.000000\n",
              "max      6545.000000\n",
              "dtype: float64"
            ]
          },
          "metadata": {},
          "execution_count": 7
        }
      ]
    },
    {
      "cell_type": "markdown",
      "source": [
        "##### Outra forma de construir uma Series"
      ],
      "metadata": {
        "id": "128sAErytQgL"
      }
    },
    {
      "cell_type": "code",
      "source": [
        "n = {'Python': 45,'Java':65,'C++':32} \n",
        "\n",
        "series = pd.Series(n)\n",
        "series"
      ],
      "metadata": {
        "colab": {
          "base_uri": "https://localhost:8080/"
        },
        "id": "JpIxh-gwsedU",
        "outputId": "7806527a-4165-401e-cf05-940775e55fc0"
      },
      "execution_count": 32,
      "outputs": [
        {
          "output_type": "execute_result",
          "data": {
            "text/plain": [
              "Python    45\n",
              "Java      65\n",
              "C++       32\n",
              "dtype: int64"
            ]
          },
          "metadata": {},
          "execution_count": 32
        }
      ]
    },
    {
      "cell_type": "markdown",
      "source": [
        "#### Indexação"
      ],
      "metadata": {
        "id": "fWB2w5mFvHz6"
      }
    },
    {
      "cell_type": "code",
      "source": [
        "'A B C D'.split()"
      ],
      "metadata": {
        "colab": {
          "base_uri": "https://localhost:8080/"
        },
        "id": "GIo8a7UjvNRl",
        "outputId": "4392450e-52fe-449e-998f-eaa4262e809b"
      },
      "execution_count": null,
      "outputs": [
        {
          "output_type": "execute_result",
          "data": {
            "text/plain": [
              "['A', 'B', 'C', 'D']"
            ]
          },
          "metadata": {},
          "execution_count": 14
        }
      ]
    },
    {
      "cell_type": "code",
      "source": [
        "s = pd.Series(data=np.random.randint(23,235,10),index='A B C D E F G H I J'.split()) # quantidade de elementos no index tem que ser igual a datas\n",
        "s"
      ],
      "metadata": {
        "colab": {
          "base_uri": "https://localhost:8080/"
        },
        "id": "PTpd_5qYv3MZ",
        "outputId": "dc8022e8-6d14-4c2a-bda1-2a62afed2e66"
      },
      "execution_count": 24,
      "outputs": [
        {
          "output_type": "execute_result",
          "data": {
            "text/plain": [
              "A    158\n",
              "B    135\n",
              "C    165\n",
              "D    181\n",
              "E     85\n",
              "F     56\n",
              "G    105\n",
              "H     33\n",
              "I    156\n",
              "J    193\n",
              "dtype: int64"
            ]
          },
          "metadata": {},
          "execution_count": 24
        }
      ]
    },
    {
      "cell_type": "code",
      "source": [
        "s['A']"
      ],
      "metadata": {
        "colab": {
          "base_uri": "https://localhost:8080/"
        },
        "id": "8lbq2XiJ0F8K",
        "outputId": "b2cddec8-644c-4ce3-8270-4731d4cb6fb7"
      },
      "execution_count": 25,
      "outputs": [
        {
          "output_type": "execute_result",
          "data": {
            "text/plain": [
              "158"
            ]
          },
          "metadata": {},
          "execution_count": 25
        }
      ]
    },
    {
      "cell_type": "code",
      "source": [
        "s[0]"
      ],
      "metadata": {
        "colab": {
          "base_uri": "https://localhost:8080/"
        },
        "id": "r99tsBVJ0KCm",
        "outputId": "c272d330-ebf8-450d-9179-b1fc06f50a54"
      },
      "execution_count": 26,
      "outputs": [
        {
          "output_type": "execute_result",
          "data": {
            "text/plain": [
              "158"
            ]
          },
          "metadata": {},
          "execution_count": 26
        }
      ]
    },
    {
      "cell_type": "code",
      "source": [
        "s['A':'C'] "
      ],
      "metadata": {
        "colab": {
          "base_uri": "https://localhost:8080/"
        },
        "id": "0XczHDjt0eM0",
        "outputId": "ef486a65-21b1-4ff0-dbd6-533f48c98120"
      },
      "execution_count": 27,
      "outputs": [
        {
          "output_type": "execute_result",
          "data": {
            "text/plain": [
              "A    158\n",
              "B    135\n",
              "C    165\n",
              "dtype: int64"
            ]
          },
          "metadata": {},
          "execution_count": 27
        }
      ]
    },
    {
      "cell_type": "code",
      "source": [
        "s[0:3] "
      ],
      "metadata": {
        "colab": {
          "base_uri": "https://localhost:8080/"
        },
        "id": "PdLjJncV0i3z",
        "outputId": "e56e933a-cf1d-4ca2-9054-e96197475cc9"
      },
      "execution_count": 29,
      "outputs": [
        {
          "output_type": "execute_result",
          "data": {
            "text/plain": [
              "A    158\n",
              "B    135\n",
              "C    165\n",
              "dtype: int64"
            ]
          },
          "metadata": {},
          "execution_count": 29
        }
      ]
    },
    {
      "cell_type": "code",
      "source": [
        "series['Python':'Java']"
      ],
      "metadata": {
        "colab": {
          "base_uri": "https://localhost:8080/"
        },
        "id": "UVUUj5Zm1C0D",
        "outputId": "2d1f9548-6da3-4db5-ee5c-736487d2bac8"
      },
      "execution_count": 35,
      "outputs": [
        {
          "output_type": "execute_result",
          "data": {
            "text/plain": [
              "Python    45\n",
              "Java      65\n",
              "dtype: int64"
            ]
          },
          "metadata": {},
          "execution_count": 35
        }
      ]
    },
    {
      "cell_type": "markdown",
      "source": [
        "#### Operações"
      ],
      "metadata": {
        "id": "q47tQ2ZE114n"
      }
    },
    {
      "cell_type": "code",
      "source": [
        "s1 = pd.Series(data=np.random.randint(1,100,3),index='facebook instagram linkedin'.split())\n",
        "s2 = pd.Series(data=np.random.randint(1,100,3),index='youtube instagram linkedin'.split())"
      ],
      "metadata": {
        "id": "NeoykVnh1569"
      },
      "execution_count": 39,
      "outputs": []
    },
    {
      "cell_type": "code",
      "source": [
        "s1"
      ],
      "metadata": {
        "colab": {
          "base_uri": "https://localhost:8080/"
        },
        "id": "fihRe7yE3bmn",
        "outputId": "1e2255e3-9d27-4961-d387-225b82213ced"
      },
      "execution_count": 37,
      "outputs": [
        {
          "output_type": "execute_result",
          "data": {
            "text/plain": [
              "facebook      5\n",
              "instagram    32\n",
              "linkedin      4\n",
              "dtype: int64"
            ]
          },
          "metadata": {},
          "execution_count": 37
        }
      ]
    },
    {
      "cell_type": "code",
      "source": [
        "s2"
      ],
      "metadata": {
        "colab": {
          "base_uri": "https://localhost:8080/"
        },
        "id": "aMz8HCQx3dPd",
        "outputId": "5a8fea17-0e43-419f-d382-1bb82ee2eb4c"
      },
      "execution_count": 40,
      "outputs": [
        {
          "output_type": "execute_result",
          "data": {
            "text/plain": [
              "youtube      67\n",
              "instagram    89\n",
              "linkedin      4\n",
              "dtype: int64"
            ]
          },
          "metadata": {},
          "execution_count": 40
        }
      ]
    },
    {
      "cell_type": "code",
      "source": [
        "s1 + s2"
      ],
      "metadata": {
        "colab": {
          "base_uri": "https://localhost:8080/"
        },
        "id": "qYoqb0KN3dJU",
        "outputId": "8039c85e-f49e-45c1-a3eb-ee2ca896f53c"
      },
      "execution_count": 41,
      "outputs": [
        {
          "output_type": "execute_result",
          "data": {
            "text/plain": [
              "facebook      NaN\n",
              "instagram    90.0\n",
              "linkedin     83.0\n",
              "youtube       NaN\n",
              "dtype: float64"
            ]
          },
          "metadata": {},
          "execution_count": 41
        }
      ]
    },
    {
      "cell_type": "markdown",
      "source": [
        "#### Máscaras"
      ],
      "metadata": {
        "id": "ycmGxAWz4Ib-"
      }
    },
    {
      "cell_type": "code",
      "source": [
        "s"
      ],
      "metadata": {
        "colab": {
          "base_uri": "https://localhost:8080/"
        },
        "id": "GK9hRxgN4KtN",
        "outputId": "b6efc01e-8cfa-4b1a-f3c1-e93d24b4cb2f"
      },
      "execution_count": 42,
      "outputs": [
        {
          "output_type": "execute_result",
          "data": {
            "text/plain": [
              "A    158\n",
              "B    135\n",
              "C    165\n",
              "D    181\n",
              "E     85\n",
              "F     56\n",
              "G    105\n",
              "H     33\n",
              "I    156\n",
              "J    193\n",
              "dtype: int64"
            ]
          },
          "metadata": {},
          "execution_count": 42
        }
      ]
    },
    {
      "cell_type": "code",
      "source": [
        "s[s < 100]"
      ],
      "metadata": {
        "colab": {
          "base_uri": "https://localhost:8080/"
        },
        "id": "ftiiw2yh4cdW",
        "outputId": "d6cb7525-03ff-4871-f4f4-38f24a98cd37"
      },
      "execution_count": 44,
      "outputs": [
        {
          "output_type": "execute_result",
          "data": {
            "text/plain": [
              "E    85\n",
              "F    56\n",
              "H    33\n",
              "dtype: int64"
            ]
          },
          "metadata": {},
          "execution_count": 44
        }
      ]
    },
    {
      "cell_type": "code",
      "source": [
        "s[s < 100].index"
      ],
      "metadata": {
        "colab": {
          "base_uri": "https://localhost:8080/"
        },
        "id": "8ZiTxQx54sfE",
        "outputId": "4c8e3acc-cfc6-453f-ecd3-d96685ef231e"
      },
      "execution_count": 46,
      "outputs": [
        {
          "output_type": "execute_result",
          "data": {
            "text/plain": [
              "Index(['E', 'F', 'H'], dtype='object')"
            ]
          },
          "metadata": {},
          "execution_count": 46
        }
      ]
    },
    {
      "cell_type": "code",
      "source": [
        "s[s > 100]"
      ],
      "metadata": {
        "colab": {
          "base_uri": "https://localhost:8080/"
        },
        "id": "x_LODhb94lQF",
        "outputId": "ce704fbf-237f-46ca-9cc0-18b819b639e3"
      },
      "execution_count": 45,
      "outputs": [
        {
          "output_type": "execute_result",
          "data": {
            "text/plain": [
              "A    158\n",
              "B    135\n",
              "C    165\n",
              "D    181\n",
              "G    105\n",
              "I    156\n",
              "J    193\n",
              "dtype: int64"
            ]
          },
          "metadata": {},
          "execution_count": 45
        }
      ]
    },
    {
      "cell_type": "code",
      "source": [
        "s[s > 100].index"
      ],
      "metadata": {
        "colab": {
          "base_uri": "https://localhost:8080/"
        },
        "id": "ipntmatg4141",
        "outputId": "a0aa3917-57a1-4b9d-e414-3ee6c5193aa5"
      },
      "execution_count": 47,
      "outputs": [
        {
          "output_type": "execute_result",
          "data": {
            "text/plain": [
              "Index(['A', 'B', 'C', 'D', 'G', 'I', 'J'], dtype='object')"
            ]
          },
          "metadata": {},
          "execution_count": 47
        }
      ]
    }
  ]
}