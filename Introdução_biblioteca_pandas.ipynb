{
  "nbformat": 4,
  "nbformat_minor": 0,
  "metadata": {
    "colab": {
      "name": "Introdução_biblioteca_pandas.ipynb",
      "provenance": [],
      "authorship_tag": "ABX9TyOYN1FPrwkfW+JJ9PNTAH8j",
      "include_colab_link": true
    },
    "kernelspec": {
      "name": "python3",
      "display_name": "Python 3"
    },
    "language_info": {
      "name": "python"
    }
  },
  "cells": [
    {
      "cell_type": "markdown",
      "metadata": {
        "id": "view-in-github",
        "colab_type": "text"
      },
      "source": [
        "<a href=\"https://colab.research.google.com/github/AlyssonBatista/Codigos-python/blob/main/Introdu%C3%A7%C3%A3o_biblioteca_pandas.ipynb\" target=\"_parent\"><img src=\"https://colab.research.google.com/assets/colab-badge.svg\" alt=\"Open In Colab\"/></a>"
      ]
    },
    {
      "cell_type": "markdown",
      "source": [
        "# introdução a bibbliteca pandas"
      ],
      "metadata": {
        "id": "0y7oK0y1Wn3M"
      }
    },
    {
      "cell_type": "code",
      "execution_count": 2,
      "metadata": {
        "id": "6-VHvA-60hFW"
      },
      "outputs": [],
      "source": [
        "import numpy as np\n",
        "import pandas as pd"
      ]
    },
    {
      "cell_type": "markdown",
      "source": [
        "#### Series"
      ],
      "metadata": {
        "id": "UIFuvogaXEHU"
      }
    },
    {
      "cell_type": "code",
      "source": [
        "steps = pd.Series([2344,3454,5064,6545,4565])\n",
        "steps"
      ],
      "metadata": {
        "colab": {
          "base_uri": "https://localhost:8080/"
        },
        "id": "Q-SfI24YXLFF",
        "outputId": "91337dea-493a-4454-d644-510b2e49f9ea"
      },
      "execution_count": 3,
      "outputs": [
        {
          "output_type": "execute_result",
          "data": {
            "text/plain": [
              "0    2344\n",
              "1    3454\n",
              "2    5064\n",
              "3    6545\n",
              "4    4565\n",
              "dtype: int64"
            ]
          },
          "metadata": {},
          "execution_count": 3
        }
      ]
    },
    {
      "cell_type": "code",
      "source": [
        "steps.values"
      ],
      "metadata": {
        "colab": {
          "base_uri": "https://localhost:8080/"
        },
        "id": "qU-hyKTNbcbf",
        "outputId": "f74b3bf1-a96a-4fde-9950-41ab82b48d59"
      },
      "execution_count": 4,
      "outputs": [
        {
          "output_type": "execute_result",
          "data": {
            "text/plain": [
              "array([2344, 3454, 5064, 6545, 4565])"
            ]
          },
          "metadata": {},
          "execution_count": 4
        }
      ]
    },
    {
      "cell_type": "code",
      "source": [
        "steps.index # começa em 0 para em 5 com passo 1"
      ],
      "metadata": {
        "colab": {
          "base_uri": "https://localhost:8080/"
        },
        "id": "jIOMCuoebhml",
        "outputId": "e6f0b519-7d82-4acc-ad54-a87ee813c163"
      },
      "execution_count": 5,
      "outputs": [
        {
          "output_type": "execute_result",
          "data": {
            "text/plain": [
              "RangeIndex(start=0, stop=5, step=1)"
            ]
          },
          "metadata": {},
          "execution_count": 5
        }
      ]
    },
    {
      "cell_type": "code",
      "source": [
        "from pandas._libs import index\n",
        "steps = pd.Series(data=[2344,3454,5064,6545,4565],index=['seg','ter','qua','qui','sex']) # altero os índicies da dos dados\n",
        "\n",
        "steps"
      ],
      "metadata": {
        "colab": {
          "base_uri": "https://localhost:8080/"
        },
        "id": "JLkupm_cb_xn",
        "outputId": "441fa44a-87b4-4d2f-b7bf-cb8b71bcb744"
      },
      "execution_count": 6,
      "outputs": [
        {
          "output_type": "execute_result",
          "data": {
            "text/plain": [
              "seg    2344\n",
              "ter    3454\n",
              "qua    5064\n",
              "qui    6545\n",
              "sex    4565\n",
              "dtype: int64"
            ]
          },
          "metadata": {},
          "execution_count": 6
        }
      ]
    },
    {
      "cell_type": "code",
      "source": [
        "steps.describe()"
      ],
      "metadata": {
        "colab": {
          "base_uri": "https://localhost:8080/"
        },
        "id": "Y3dBH11kdGP1",
        "outputId": "0185d9bc-14b7-4323-ac44-225fa616b8ed"
      },
      "execution_count": 7,
      "outputs": [
        {
          "output_type": "execute_result",
          "data": {
            "text/plain": [
              "count       5.000000\n",
              "mean     4394.400000\n",
              "std      1596.170511\n",
              "min      2344.000000\n",
              "25%      3454.000000\n",
              "50%      4565.000000\n",
              "75%      5064.000000\n",
              "max      6545.000000\n",
              "dtype: float64"
            ]
          },
          "metadata": {},
          "execution_count": 7
        }
      ]
    }
  ]
}