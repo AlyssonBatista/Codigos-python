{
  "nbformat": 4,
  "nbformat_minor": 0,
  "metadata": {
    "colab": {
      "name": "Exercícios python IME USP .ipynb",
      "provenance": [],
      "authorship_tag": "ABX9TyPJLvjvQMAz9+4Ib3PIdWIE",
      "include_colab_link": true
    },
    "kernelspec": {
      "name": "python3",
      "display_name": "Python 3"
    },
    "language_info": {
      "name": "python"
    }
  },
  "cells": [
    {
      "cell_type": "markdown",
      "metadata": {
        "id": "view-in-github",
        "colab_type": "text"
      },
      "source": [
        "<a href=\"https://colab.research.google.com/github/AlyssonBatista/Codigos-python/blob/main/Exerc%C3%ADcios_python_IME_USP_.ipynb\" target=\"_parent\"><img src=\"https://colab.research.google.com/assets/colab-badge.svg\" alt=\"Open In Colab\"/></a>"
      ]
    },
    {
      "cell_type": "markdown",
      "source": [
        "# Exercícios python IME USP "
      ],
      "metadata": {
        "id": "2icMSUil-Yof"
      }
    },
    {
      "cell_type": "markdown",
      "source": [
        "#### 1 - Dados dois inteiros, calcular a sua soma."
      ],
      "metadata": {
        "id": "qF--iECs-pw2"
      }
    },
    {
      "cell_type": "code",
      "execution_count": null,
      "metadata": {
        "colab": {
          "base_uri": "https://localhost:8080/"
        },
        "id": "ujjqHRWz-T3G",
        "outputId": "07aefd83-8fae-4dbe-a04f-96c882e5acca"
      },
      "outputs": [
        {
          "output_type": "stream",
          "name": "stdout",
          "text": [
            "Número 1:\n",
            "2\n",
            "Número 2:\n",
            "4\n",
            "Soma = 6\n"
          ]
        }
      ],
      "source": [
        "A = int(input('Número 1:\\n'))\n",
        "B = int(input('Número 2:\\n'))\n",
        "\n",
        "soma = A + B\n",
        "print(f'Soma = {soma}')"
      ]
    },
    {
      "cell_type": "markdown",
      "source": [
        "#### 2 - Dada uma sequência de números inteiros diferentes de zero, terminada por um zero, calcular a sua soma. Por exemplo, para a sequência\n",
        "\n",
        "12 17 4 -6 8 0\n",
        "\n",
        "o seu programa deve escrever o número 35."
      ],
      "metadata": {
        "id": "53WG1r1p_QOm"
      }
    },
    {
      "cell_type": "code",
      "source": [
        "num = input('Digite um número inteirp: \\n')\n",
        "soma = 0\n",
        "while(num != 0):\n",
        "    num = int(input())\n",
        "    soma = num + soma\n",
        "print(soma)"
      ],
      "metadata": {
        "colab": {
          "base_uri": "https://localhost:8080/"
        },
        "id": "CVQ-XMhQ_qgf",
        "outputId": "5e65a769-c84a-4dc2-cd19-5b81179842fb"
      },
      "execution_count": null,
      "outputs": [
        {
          "output_type": "stream",
          "name": "stdout",
          "text": [
            "Digite um número inteirp: \n",
            "1\n",
            "2\n",
            "3\n",
            "4\n",
            "2\n",
            "4\n",
            "2\n",
            "0\n",
            "17\n"
          ]
        }
      ]
    },
    {
      "cell_type": "markdown",
      "source": [
        "#### 3 - Dados números inteiros n e k, com k>=0, determinar n^K. Por exemplo, dados os números 3 e 4 o seu programa deve escrever o número 81."
      ],
      "metadata": {
        "id": "eUTXyRrmmL4-"
      }
    },
    {
      "cell_type": "code",
      "source": [
        "import math\n",
        "\n",
        "n = int(input(\"Digite o número n:\\n\"))\n",
        "k = int(input(\"Digite o número k:\\n\"))\n",
        "\n",
        "esp = math.pow(n,k)\n",
        "print(esp)"
      ],
      "metadata": {
        "colab": {
          "base_uri": "https://localhost:8080/"
        },
        "id": "U67hMHVPmPkO",
        "outputId": "33f71d0b-e12e-4321-8789-9fd7fbf97791"
      },
      "execution_count": null,
      "outputs": [
        {
          "output_type": "stream",
          "name": "stdout",
          "text": [
            "Digite o número n:\n",
            "3\n",
            "Digite o número k:\n",
            "2\n",
            "9.0\n"
          ]
        }
      ]
    },
    {
      "cell_type": "markdown",
      "source": [
        "#### 4 - Dado um número inteiro n >= 0, calcular n!"
      ],
      "metadata": {
        "id": "U-TtRR7-oxCX"
      }
    },
    {
      "cell_type": "code",
      "source": [
        "n = int(input())\n",
        "\n",
        "fat = 1 \n",
        "i = 2\n",
        "\n",
        "while i <= n:\n",
        "    fat = fat*i\n",
        "    i += 1\n",
        "print(fat)"
      ],
      "metadata": {
        "colab": {
          "base_uri": "https://localhost:8080/"
        },
        "id": "i85iVqu6nRgQ",
        "outputId": "4aeb4045-67bf-497a-8d76-a88b2b97233c"
      },
      "execution_count": null,
      "outputs": [
        {
          "output_type": "stream",
          "name": "stdout",
          "text": [
            "4\n",
            "24\n"
          ]
        }
      ]
    },
    {
      "cell_type": "markdown",
      "source": [
        "#### 5 - Dados um número inteiro n, n > 0, e uma sequência com n números inteiros, determinar quantos números da sequência são pares e quantos são ímpares. Por exemplo, para a sequência\n",
        "\n",
        "6 \n",
        "\n",
        "-2    7   0    -5    8   4\n",
        "\n",
        "o seu programa deve escrever o número 4 para o número de pares e 2 para o de ímpares."
      ],
      "metadata": {
        "id": "KAwFLaNZcEh0"
      }
    },
    {
      "cell_type": "code",
      "source": [
        "import random\n",
        "\n",
        "def gera(): # função que gera os números aleátorios de -1000 a 1000\n",
        "    lista = []\n",
        "    for i in range(-1000,1000,1):\n",
        "        lista.append(i)\n",
        "    return lista\n",
        "\n",
        "\n",
        "\n",
        "par =0\n",
        "impar = 0\n",
        "tam = 0\n",
        "num  = int(input('Digite um numero: \\n'))\n",
        "tam = random.sample(gera(),num) # Método sample que retorna uma quantidade definida e aleatória de itens de uma lista \n",
        "print(tam)\n",
        "i = 0\n",
        "for i in range(len(tam)): # o for pra definir quantos são pares e quantos são impares da lista 'tam'\n",
        "    if tam[i] % 2 == 0:\n",
        "        par += 1\n",
        "    else:\n",
        "        impar += 1\n",
        "print(f'Números pares: {par}')\n",
        "print(f'Números impares: {impar}')\n",
        "    \n"
      ],
      "metadata": {
        "colab": {
          "base_uri": "https://localhost:8080/"
        },
        "id": "V1fz44i1898G",
        "outputId": "62da6283-c4b4-4f86-b2c9-62a698bcc35e"
      },
      "execution_count": 91,
      "outputs": [
        {
          "output_type": "stream",
          "name": "stdout",
          "text": [
            "Digite um numero: \n",
            "10\n",
            "[-209, -582, 886, -944, -969, -777, -90, -802, -405, 850]\n",
            "Números pares: 6\n",
            "Números impares: 4\n"
          ]
        }
      ]
    },
    {
      "cell_type": "markdown",
      "source": [
        "Dados um número inteiro n, n > 0, e um dígito d (0 ≤ d ≤ 9), determinar quantas vezes d ocorre em n.\n",
        "\n",
        "~~~\n",
        "Exemplo 1:\n",
        "Digite o valor de n (n > 0): 63543\n",
        "Digite o valor de d (0<=d<=9): 3\n",
        "O dígito 3 ocorre 2 vezes em  63543\n",
        "\n",
        "Exemplo 2:\n",
        "\n",
        "Digite o valor de n (n > 0): 0\n",
        "Digite o valor de d (0<=d<=9): 0\n",
        "O dígito 0 ocorre 0 vezes em  0\n",
        "\n",
        "Exemplo 3:\n",
        "\n",
        "Digite o valor de n (n > 0): 110\n",
        "Digite o valor de d (0<=d<=9): 0\n",
        "O dígito 0 ocorre 1 vezes em  110\n",
        "~~~"
      ],
      "metadata": {
        "id": "kNSP8NToFzpY"
      }
    },
    {
      "cell_type": "code",
      "source": [
        ""
      ],
      "metadata": {
        "id": "1tInt71FDf82"
      },
      "execution_count": null,
      "outputs": []
    }
  ]
}