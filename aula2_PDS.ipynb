{
  "nbformat": 4,
  "nbformat_minor": 0,
  "metadata": {
    "colab": {
      "name": "aula2_PDS.ipynb",
      "provenance": [],
      "collapsed_sections": [
        "oOZwcv5DByWt",
        "cr_J3L1QKdCx",
        "583Jmtat3t2d",
        "jdbFMn9nUxlk",
        "OK1MLG9OXXnW"
      ],
      "include_colab_link": true
    },
    "kernelspec": {
      "name": "python3",
      "display_name": "Python 3"
    },
    "language_info": {
      "name": "python"
    }
  },
  "cells": [
    {
      "cell_type": "markdown",
      "metadata": {
        "id": "view-in-github",
        "colab_type": "text"
      },
      "source": [
        "<a href=\"https://colab.research.google.com/github/AlyssonBatista/Codigos-python/blob/main/aula2_PDS.ipynb\" target=\"_parent\"><img src=\"https://colab.research.google.com/assets/colab-badge.svg\" alt=\"Open In Colab\"/></a>"
      ]
    },
    {
      "cell_type": "markdown",
      "source": [
        "# Dúvidas da aula passada"
      ],
      "metadata": {
        "id": "0mxC7zIqbOBj"
      }
    },
    {
      "cell_type": "markdown",
      "source": [
        "## Operador \"is\""
      ],
      "metadata": {
        "id": "Ygy4Nwd6SPNM"
      }
    },
    {
      "cell_type": "code",
      "source": [
        "list_1 = ['a', 'b', 'c']\n",
        "list_2 = list_1\n",
        "list_3 = list(list_1)\n",
        "print(list_1)\n",
        "print(list_2)\n",
        "print(list_3)"
      ],
      "metadata": {
        "colab": {
          "base_uri": "https://localhost:8080/"
        },
        "id": "l1KLmtr1qDfU",
        "outputId": "1f58c674-f1ed-466c-c554-cd7ca13a8ee6"
      },
      "execution_count": null,
      "outputs": [
        {
          "output_type": "stream",
          "name": "stdout",
          "text": [
            "['a', 'b', 'c']\n",
            "['a', 'b', 'c']\n",
            "['a', 'b', 'c']\n"
          ]
        }
      ]
    },
    {
      "cell_type": "code",
      "source": [
        "print(list_1 == list_2)\n",
        "print(list_1 == list_3)"
      ],
      "metadata": {
        "colab": {
          "base_uri": "https://localhost:8080/"
        },
        "id": "N1vwv3xKqM_t",
        "outputId": "55d7fd90-24ec-4e91-c117-4147226e139c"
      },
      "execution_count": null,
      "outputs": [
        {
          "output_type": "stream",
          "name": "stdout",
          "text": [
            "True\n",
            "True\n"
          ]
        }
      ]
    },
    {
      "cell_type": "code",
      "source": [
        "print(list_1 is list_2)\n",
        "print(list_1 is list_3)"
      ],
      "metadata": {
        "colab": {
          "base_uri": "https://localhost:8080/"
        },
        "id": "h6RNw7lQqQJ5",
        "outputId": "0dec2fa4-e6a4-4839-88bd-3d6c34d05415"
      },
      "execution_count": null,
      "outputs": [
        {
          "output_type": "stream",
          "name": "stdout",
          "text": [
            "True\n",
            "False\n"
          ]
        }
      ]
    },
    {
      "cell_type": "code",
      "source": [
        "print(id(list_1))\n",
        "print(id(list_2))\n",
        "print(id(list_3))"
      ],
      "metadata": {
        "colab": {
          "base_uri": "https://localhost:8080/"
        },
        "id": "w2BFEKBWdoCU",
        "outputId": "0f9186f3-cce6-49af-d3d3-b3e80ee23d05"
      },
      "execution_count": null,
      "outputs": [
        {
          "output_type": "stream",
          "name": "stdout",
          "text": [
            "140471999423184\n",
            "140471999423184\n",
            "140472050163616\n"
          ]
        }
      ]
    },
    {
      "cell_type": "code",
      "source": [
        "a = 2\n",
        "b = str(a)\n",
        "c = int(b)\n"
      ],
      "metadata": {
        "id": "9nkuzBcuqaV8"
      },
      "execution_count": null,
      "outputs": []
    },
    {
      "cell_type": "code",
      "source": [
        "print(a is b)\n",
        "print(a is c)"
      ],
      "metadata": {
        "colab": {
          "base_uri": "https://localhost:8080/"
        },
        "id": "eoy5SGw0biZ_",
        "outputId": "cc130a12-13f5-4440-a16f-363bac4286fc"
      },
      "execution_count": null,
      "outputs": [
        {
          "output_type": "stream",
          "name": "stdout",
          "text": [
            "False\n",
            "True\n"
          ]
        }
      ]
    },
    {
      "cell_type": "code",
      "source": [
        "print(id(a))\n",
        "print(id(b))\n",
        "print(id(c))"
      ],
      "metadata": {
        "colab": {
          "base_uri": "https://localhost:8080/"
        },
        "id": "-Ot_11Lxb8Kt",
        "outputId": "90c97ee6-1b97-4321-f37e-518f93bd9d25"
      },
      "execution_count": null,
      "outputs": [
        {
          "output_type": "stream",
          "name": "stdout",
          "text": [
            "94548653578784\n",
            "140471999587888\n",
            "94548653578784\n"
          ]
        }
      ]
    },
    {
      "cell_type": "markdown",
      "source": [
        "## Múltiplas entradas na função *input*"
      ],
      "metadata": {
        "id": "7AYSnLddSRik"
      }
    },
    {
      "cell_type": "code",
      "source": [
        "nota1, nota2 = input(\"Digite as notas separadas por um espaço: \").split()\n",
        "print(f'Nota 1: {nota1}\\nNota 2: {nota2}')"
      ],
      "metadata": {
        "colab": {
          "base_uri": "https://localhost:8080/"
        },
        "id": "qjVRhnxrSXyI",
        "outputId": "ba40250b-5dab-4d9c-9c30-ce044d18c57c"
      },
      "execution_count": null,
      "outputs": [
        {
          "output_type": "stream",
          "name": "stdout",
          "text": [
            "Digite as notas separadas por um espaço: 80 70\n",
            "Nota 1: 80\n",
            "Nota 2: 70\n"
          ]
        }
      ]
    },
    {
      "cell_type": "code",
      "source": [
        "notas = input(\"Digite as notas separadas por vírgula: \").split(\",\")\n",
        "\n",
        "# O valor é armazenado em uma lista\n",
        "print(notas,'\\n\\n')\n",
        "\n",
        "#Para imprimir uma de cada vez\n",
        "for cont,nota in enumerate(notas):\n",
        "    print(f'Nota {cont}: {nota}')"
      ],
      "metadata": {
        "colab": {
          "base_uri": "https://localhost:8080/"
        },
        "id": "cuTKdOkLS_0H",
        "outputId": "0dbda85a-fbfd-4144-a858-185897f5a88c"
      },
      "execution_count": null,
      "outputs": [
        {
          "output_type": "stream",
          "name": "stdout",
          "text": [
            "Digite as notas separadas por vírgula: 80,70\n",
            "['80', '70'] \n",
            "\n",
            "\n",
            "Nota 0: 80\n",
            "Nota 1: 70\n"
          ]
        }
      ]
    },
    {
      "cell_type": "markdown",
      "source": [
        "# Criação de arrays NumPy"
      ],
      "metadata": {
        "id": "L03RN09VcD3J"
      }
    },
    {
      "cell_type": "markdown",
      "source": [
        "Primeiramente é importada a biblioteca numpy. Apesar de já estar instalada no ambiente Colab, a biblioteca numpy não vem por padrão no Python, devendo ser instalada por meio de algum gerenciador de pacotes como **pip** ou **conda**.\n",
        "\n",
        "O *as* é a forma do Python de indicar como as funções da biblioteca importada serão chamadas no programa. **Bibliotecas mais famosas, como a numpy, já possuem alguma convenção, nesse caso, **np**.** As convenções podem ser observadas a partir de exemplos na documentação da biblioteca a ser utilizada.\n",
        "\n",
        "Dessa forma, cada função da numpy será precedida por np.nome_funcao.\n",
        "\n"
      ],
      "metadata": {
        "id": "2Cv5iFkI5kRq"
      }
    },
    {
      "cell_type": "code",
      "source": [
        "import numpy as np"
      ],
      "metadata": {
        "id": "oQyKwAsPcC29"
      },
      "execution_count": null,
      "outputs": []
    },
    {
      "cell_type": "markdown",
      "source": [
        "## Rotinas para criação de arrays numpy\n",
        "\n"
      ],
      "metadata": {
        "id": "7x5autLH6XmS"
      }
    },
    {
      "cell_type": "markdown",
      "source": [
        "### Função array\n",
        "\n",
        "https://numpy.org/doc/stable/reference/generated/numpy.array.html#numpy.array"
      ],
      "metadata": {
        "id": "pEw7ZVJp6cyl"
      }
    },
    {
      "cell_type": "code",
      "source": [
        "array_numpy = np.array([[5,2,3],[0,4,0]])\n",
        "print(array_numpy)"
      ],
      "metadata": {
        "colab": {
          "base_uri": "https://localhost:8080/"
        },
        "id": "w5q-xzLIcNji",
        "outputId": "e0b221ed-bbf7-4e0e-ab3e-0ce789ff48e2"
      },
      "execution_count": null,
      "outputs": [
        {
          "output_type": "stream",
          "name": "stdout",
          "text": [
            "[[5 2 3]\n",
            " [0 4 0]]\n"
          ]
        }
      ]
    },
    {
      "cell_type": "markdown",
      "source": [
        "### Função empty\n",
        "\n",
        "https://numpy.org/doc/stable/reference/generated/numpy.empty.html#numpy.empty"
      ],
      "metadata": {
        "id": "mHsy2MBS7S2X"
      }
    },
    {
      "cell_type": "code",
      "source": [
        "vazio = np.empty(10)\n",
        "print(vazio)"
      ],
      "metadata": {
        "colab": {
          "base_uri": "https://localhost:8080/"
        },
        "id": "JvR3RkBf7W92",
        "outputId": "3685894b-6f1d-4bde-bd68-1def7d4ec096"
      },
      "execution_count": null,
      "outputs": [
        {
          "output_type": "stream",
          "name": "stdout",
          "text": [
            "[4.67132499e-310 0.00000000e+000 0.00000000e+000 0.00000000e+000\n",
            " 0.00000000e+000 0.00000000e+000 0.00000000e+000 0.00000000e+000\n",
            " 0.00000000e+000 0.00000000e+000]\n"
          ]
        }
      ]
    },
    {
      "cell_type": "markdown",
      "source": [
        "### Função zeros\n",
        "\n",
        "https://numpy.org/doc/stable/reference/generated/numpy.zeros.html#numpy.zeros"
      ],
      "metadata": {
        "id": "_BQAR4K17dgv"
      }
    },
    {
      "cell_type": "code",
      "source": [
        "zeros = np.zeros((2,3))\n",
        "print(zeros)"
      ],
      "metadata": {
        "colab": {
          "base_uri": "https://localhost:8080/"
        },
        "id": "ebjMwb4q7aam",
        "outputId": "7503e9b0-87cc-4f71-ddef-abf726903eb2"
      },
      "execution_count": null,
      "outputs": [
        {
          "output_type": "stream",
          "name": "stdout",
          "text": [
            "[[0. 0. 0.]\n",
            " [0. 0. 0.]]\n"
          ]
        }
      ]
    },
    {
      "cell_type": "markdown",
      "source": [
        "### Função ones\n",
        "\n",
        "https://numpy.org/doc/stable/reference/generated/numpy.ones.html#numpy.ones"
      ],
      "metadata": {
        "id": "FrHBstEc7jbh"
      }
    },
    {
      "cell_type": "code",
      "source": [
        "ones = np.ones((5,5))\n",
        "print(ones)"
      ],
      "metadata": {
        "colab": {
          "base_uri": "https://localhost:8080/"
        },
        "id": "cR3EbSJD7k6_",
        "outputId": "a8b0e716-8dfc-409b-ebab-f0bef1e0e3ad"
      },
      "execution_count": null,
      "outputs": [
        {
          "output_type": "stream",
          "name": "stdout",
          "text": [
            "[[1. 1. 1. 1. 1.]\n",
            " [1. 1. 1. 1. 1.]\n",
            " [1. 1. 1. 1. 1.]\n",
            " [1. 1. 1. 1. 1.]\n",
            " [1. 1. 1. 1. 1.]]\n"
          ]
        }
      ]
    },
    {
      "cell_type": "markdown",
      "source": [
        "### Função full\n",
        "\n",
        "https://numpy.org/doc/stable/reference/generated/numpy.full.html#numpy.full"
      ],
      "metadata": {
        "id": "y-tiID0d72Qw"
      }
    },
    {
      "cell_type": "code",
      "source": [
        "full = np.full((3,1),'F')\n",
        "print(full)"
      ],
      "metadata": {
        "colab": {
          "base_uri": "https://localhost:8080/"
        },
        "id": "FV7nOGzK73xP",
        "outputId": "720d41ad-0639-48f8-e0f3-d1617bca01a6"
      },
      "execution_count": null,
      "outputs": [
        {
          "output_type": "stream",
          "name": "stdout",
          "text": [
            "[['F']\n",
            " ['F']\n",
            " ['F']]\n"
          ]
        }
      ]
    },
    {
      "cell_type": "markdown",
      "source": [
        "### Função linspace\n",
        "\n",
        "https://numpy.org/doc/stable/reference/generated/numpy.linspace.html"
      ],
      "metadata": {
        "id": "XZ3LZCQO8AgR"
      }
    },
    {
      "cell_type": "code",
      "source": [
        "# Os argumentos num e endpoint são opcionais\n",
        "\n",
        "linspace1 = np.linspace(2, 3, num=5, endpoint=True)\n",
        "print(linspace1)\n",
        "\n",
        "linspace2 = np.linspace(-5, 5, num=11, endpoint=True)\n",
        "print(linspace2)"
      ],
      "metadata": {
        "colab": {
          "base_uri": "https://localhost:8080/"
        },
        "id": "uB5h8J3Y799K",
        "outputId": "2bb5854f-dfea-4845-e560-275dd97b9ca1"
      },
      "execution_count": null,
      "outputs": [
        {
          "output_type": "stream",
          "name": "stdout",
          "text": [
            "[2.   2.25 2.5  2.75 3.  ]\n",
            "[-5. -4. -3. -2. -1.  0.  1.  2.  3.  4.  5.]\n"
          ]
        }
      ]
    },
    {
      "cell_type": "markdown",
      "source": [
        "### Função arange\n",
        "\n",
        "https://numpy.org/doc/stable/reference/generated/numpy.arange.html#numpy.arange"
      ],
      "metadata": {
        "id": "24ShZNuf8gW6"
      }
    },
    {
      "cell_type": "code",
      "source": [
        "# O argumento de valor 1 é opcional\n",
        "arange = np.arange(-5,6,1)  \n",
        "print(arange)"
      ],
      "metadata": {
        "colab": {
          "base_uri": "https://localhost:8080/"
        },
        "id": "d7Gg5OIw8lw2",
        "outputId": "d4d27dd6-6f0b-4a19-d9c8-e2cb58d45511"
      },
      "execution_count": null,
      "outputs": [
        {
          "output_type": "stream",
          "name": "stdout",
          "text": [
            "[-5 -4 -3 -2 -1  0  1  2  3  4  5]\n"
          ]
        }
      ]
    },
    {
      "cell_type": "markdown",
      "source": [
        "### Função asrray\n",
        "\n",
        "https://numpy.org/doc/stable/reference/generated/numpy.asarray.html"
      ],
      "metadata": {
        "id": "1IEd953h9Mt7"
      }
    },
    {
      "cell_type": "code",
      "source": [
        "lista = [['a', 'b'], ['c', 'd']]\n",
        "array_da_lista = np.asarray(lista)\n",
        "\n",
        "print(f'Lista:{lista}')\n",
        "print(f'array numpy:{array_da_lista}')\n",
        "# Uso do like\n"
      ],
      "metadata": {
        "colab": {
          "base_uri": "https://localhost:8080/"
        },
        "id": "EUR7JZh0cwEV",
        "outputId": "24a75f06-2b81-4af5-94a8-fa4b85c6858e"
      },
      "execution_count": null,
      "outputs": [
        {
          "output_type": "stream",
          "name": "stdout",
          "text": [
            "Lista:[['a', 'b'], ['c', 'd']]\n",
            "array numpy:[['a' 'b']\n",
            " ['c' 'd']]\n"
          ]
        }
      ]
    },
    {
      "cell_type": "markdown",
      "source": [
        "### Funções *...*_like\n",
        "\n",
        "Para o atual exemplo: https://numpy.org/doc/stable/reference/generated/numpy.full_like.html#numpy.full_like\n",
        "\n",
        "Outras funções do tipo *...*_like:\n",
        "* https://numpy.org/doc/stable/reference/generated/numpy.empty_like.html#numpy.empty_like\n",
        "* https://numpy.org/doc/stable/reference/generated/numpy.zeros_like.html#numpy.zeros_like\n",
        "* https://numpy.org/doc/stable/reference/generated/numpy.ones_like.html#numpy.ones_like"
      ],
      "metadata": {
        "id": "Rud22z2B_5jF"
      }
    },
    {
      "cell_type": "code",
      "source": [
        "full_like = np.full_like(full, '9')\n",
        "print(full_like)"
      ],
      "metadata": {
        "colab": {
          "base_uri": "https://localhost:8080/"
        },
        "id": "D1U1lVIx_-CO",
        "outputId": "8c0269db-bb83-4f74-f0f3-3d60c48751dd"
      },
      "execution_count": null,
      "outputs": [
        {
          "output_type": "stream",
          "name": "stdout",
          "text": [
            "[['9']\n",
            " ['9']\n",
            " ['9']]\n"
          ]
        }
      ]
    },
    {
      "cell_type": "markdown",
      "source": [
        "# Propriedades de arrays"
      ],
      "metadata": {
        "id": "oOZwcv5DByWt"
      }
    },
    {
      "cell_type": "code",
      "source": [
        "prop_array = np.array([[1., 0., 0.],\n",
        "                       [0., 1., 2.]])\n",
        "\n",
        "print(f'Número de dimensões - ndim: {prop_array.ndim}')\n",
        "print(f'Formato - shape: {prop_array.shape}')\n",
        "print(f'Número de elementos - size: {prop_array.size}')\n",
        "print(f'Tipo dos elementos - dtype: {prop_array.dtype}')"
      ],
      "metadata": {
        "colab": {
          "base_uri": "https://localhost:8080/"
        },
        "id": "TFbfKCUNBxsn",
        "outputId": "60036735-037c-4567-9304-ba16e6d3f239"
      },
      "execution_count": null,
      "outputs": [
        {
          "output_type": "stream",
          "name": "stdout",
          "text": [
            "Número de dimensões - ndim: 2\n",
            "Formato - shape: (2, 3)\n",
            "Número de elementos - size: 6\n",
            "Tipo dos elementos - dtype: float64\n"
          ]
        }
      ]
    },
    {
      "cell_type": "markdown",
      "source": [
        "# Indexação de arrays"
      ],
      "metadata": {
        "id": "cr_J3L1QKdCx"
      }
    },
    {
      "cell_type": "markdown",
      "source": [
        "## Unidimensionais"
      ],
      "metadata": {
        "id": "wvtVf1OlRueO"
      }
    },
    {
      "cell_type": "code",
      "source": [
        "idx_array1 = np.linspace(0,10,11, dtype = int)\n",
        "print(idx_array1)"
      ],
      "metadata": {
        "colab": {
          "base_uri": "https://localhost:8080/"
        },
        "id": "7rK7Qo_JRwGc",
        "outputId": "2fa3c424-ed91-4ad6-a410-de42fd60c6cd"
      },
      "execution_count": null,
      "outputs": [
        {
          "output_type": "stream",
          "name": "stdout",
          "text": [
            "[ 0  1  2  3  4  5  6  7  8  9 10]\n"
          ]
        }
      ]
    },
    {
      "cell_type": "markdown",
      "source": [
        "Um elemento pode ser obtido de forma semelhante ao que é feito para listas ou vetores em C:"
      ],
      "metadata": {
        "id": "sINzAqmoSF3k"
      }
    },
    {
      "cell_type": "code",
      "source": [
        "print(idx_array1[1],'\\n')\n",
        "\n",
        "print(idx_array1[-1],'\\n')"
      ],
      "metadata": {
        "colab": {
          "base_uri": "https://localhost:8080/"
        },
        "id": "VrpzXtUeR3TL",
        "outputId": "41ce43be-3e55-41ad-c514-14d5b325641c"
      },
      "execution_count": null,
      "outputs": [
        {
          "output_type": "stream",
          "name": "stdout",
          "text": [
            "1 \n",
            "\n",
            "10 \n",
            "\n"
          ]
        }
      ]
    },
    {
      "cell_type": "markdown",
      "source": [
        "Um conjunto de elementos pode ser obtido também de forma semelhante ao que é feito para listas:"
      ],
      "metadata": {
        "id": "4-jP-zxWSuTW"
      }
    },
    {
      "cell_type": "code",
      "source": [
        "print(idx_array1[0:5],'\\n')\n",
        "\n",
        "print(idx_array1[4:-3],'\\n')\n",
        "\n",
        "print(idx_array1[1:9:2],'\\n')\n",
        "\n",
        "print(idx_array1[-3:3:-1],'\\n')\n"
      ],
      "metadata": {
        "colab": {
          "base_uri": "https://localhost:8080/"
        },
        "id": "5ffQmYhLS2SE",
        "outputId": "3eacaa25-8dd7-42ee-80ab-0a610adad221"
      },
      "execution_count": null,
      "outputs": [
        {
          "output_type": "stream",
          "name": "stdout",
          "text": [
            "[0 1 2 3 4] \n",
            "\n",
            "[4 5 6 7] \n",
            "\n",
            "[1 3 5 7] \n",
            "\n",
            "[8 7 6 5 4] \n",
            "\n"
          ]
        }
      ]
    },
    {
      "cell_type": "markdown",
      "source": [
        "## N-Dimensionais"
      ],
      "metadata": {
        "id": "Jt2PG1zMRxlo"
      }
    },
    {
      "cell_type": "code",
      "source": [
        "idx_array2 = np.array([['a', 'b', 'c'],\n",
        "                     ['d','e','f']])\n",
        "print(idx_array2)"
      ],
      "metadata": {
        "colab": {
          "base_uri": "https://localhost:8080/"
        },
        "id": "tPwXCLWjKq6l",
        "outputId": "90bf4413-c824-4704-b0f0-2ea18391f73c"
      },
      "execution_count": null,
      "outputs": [
        {
          "output_type": "stream",
          "name": "stdout",
          "text": [
            "[['a' 'b' 'c']\n",
            " ['d' 'e' 'f']]\n"
          ]
        }
      ]
    },
    {
      "cell_type": "code",
      "source": [
        "print(idx_array2[1,1],'\\n')\n",
        "\n",
        "print(idx_array2[:,1],'\\n')\n",
        "\n",
        "#Observar a diferença para idx_array2[:][1]\n",
        "print(idx_array2[:][1],'\\n')\n",
        "\n",
        "print(idx_array2[0,1:])"
      ],
      "metadata": {
        "colab": {
          "base_uri": "https://localhost:8080/"
        },
        "id": "KaLB6l63V_1u",
        "outputId": "7890e989-95b7-4750-f4ee-0e62c163a92a"
      },
      "execution_count": null,
      "outputs": [
        {
          "output_type": "stream",
          "name": "stdout",
          "text": [
            "e \n",
            "\n",
            "['b' 'e'] \n",
            "\n",
            "['d' 'e' 'f'] \n",
            "\n",
            "['b' 'c']\n"
          ]
        }
      ]
    },
    {
      "cell_type": "markdown",
      "source": [
        "# Operações básicas entre arrays"
      ],
      "metadata": {
        "id": "0ZG1B9y9lKum"
      }
    },
    {
      "cell_type": "code",
      "source": [
        "arr1= np.array([[1,2],[3,4]])\n",
        "arr2 = np.ones_like(arr1)\n",
        "arr3 = np.array([[3,2],[4,1]])\n",
        "\n",
        "print(\"Array 1: \",arr1,'\\n\\n')\n",
        "print(\"Array 2: \",arr2,'\\n\\n')\n",
        "print(\"Array 3: \",arr3,'\\n\\n')"
      ],
      "metadata": {
        "colab": {
          "base_uri": "https://localhost:8080/"
        },
        "id": "y0-PAfQIsZuk",
        "outputId": "39fd139e-bc39-4abf-b2d7-d34426ee03df"
      },
      "execution_count": null,
      "outputs": [
        {
          "output_type": "stream",
          "name": "stdout",
          "text": [
            "Array 1:  [[1 2]\n",
            " [3 4]] \n",
            "\n",
            "\n",
            "Array 2:  [[1 1]\n",
            " [1 1]] \n",
            "\n",
            "\n",
            "Array 3:  [[3 2]\n",
            " [4 1]] \n",
            "\n",
            "\n"
          ]
        }
      ]
    },
    {
      "cell_type": "markdown",
      "source": [
        "## Adição"
      ],
      "metadata": {
        "id": "nI7wjO7gsXfY"
      }
    },
    {
      "cell_type": "code",
      "source": [
        "print(f\"Adição: arr1+5 = \\n {arr1+5}\")"
      ],
      "metadata": {
        "colab": {
          "base_uri": "https://localhost:8080/"
        },
        "id": "4nZIr1shsY0S",
        "outputId": "6aafc6c8-cbb7-43f5-fd2c-07652665cf8b"
      },
      "execution_count": null,
      "outputs": [
        {
          "output_type": "stream",
          "name": "stdout",
          "text": [
            "Adição: arr1+5 = \n",
            " [[6 7]\n",
            " [8 9]]\n"
          ]
        }
      ]
    },
    {
      "cell_type": "code",
      "source": [
        "print(f\"Adição: arr1+arr2 = \\n {arr1+arr2}\")"
      ],
      "metadata": {
        "colab": {
          "base_uri": "https://localhost:8080/"
        },
        "id": "JIgjIzFRXoMF",
        "outputId": "d23bd5b4-5be6-407b-cea7-effd0d7716a3"
      },
      "execution_count": null,
      "outputs": [
        {
          "output_type": "stream",
          "name": "stdout",
          "text": [
            "Adição: arr1+arr2 = \n",
            " [[2 3]\n",
            " [4 5]]\n"
          ]
        }
      ]
    },
    {
      "cell_type": "markdown",
      "source": [
        "## Subtração"
      ],
      "metadata": {
        "id": "RFUUDCrysiR7"
      }
    },
    {
      "cell_type": "code",
      "source": [
        "print(f\"Subtração: arr1-1 = \\n {arr1-1}\")"
      ],
      "metadata": {
        "colab": {
          "base_uri": "https://localhost:8080/"
        },
        "id": "vceS8TZgse-6",
        "outputId": "a024773a-b5bd-4a2a-955b-440c564c9924"
      },
      "execution_count": null,
      "outputs": [
        {
          "output_type": "stream",
          "name": "stdout",
          "text": [
            "Subtração: arr1-1 = \n",
            " [[0 1]\n",
            " [2 3]]\n"
          ]
        }
      ]
    },
    {
      "cell_type": "code",
      "source": [
        "print(f\"Subtração: arr1-arr2 = \\n {arr1-arr2}\")"
      ],
      "metadata": {
        "colab": {
          "base_uri": "https://localhost:8080/"
        },
        "id": "rfFxG5bXspbV",
        "outputId": "ecd2a3f1-3115-49c6-ef67-94d880da337d"
      },
      "execution_count": null,
      "outputs": [
        {
          "output_type": "stream",
          "name": "stdout",
          "text": [
            "Subtração: arr1-arr2 = \n",
            " [[0 1]\n",
            " [2 3]]\n"
          ]
        }
      ]
    },
    {
      "cell_type": "markdown",
      "source": [
        "## Multiplicação"
      ],
      "metadata": {
        "id": "S2g1hsytsvGR"
      }
    },
    {
      "cell_type": "code",
      "source": [
        "print(f\"Multiplicação: arr1*2 = \\n {arr1*2}\")"
      ],
      "metadata": {
        "colab": {
          "base_uri": "https://localhost:8080/"
        },
        "id": "YRZ9ZjH6swog",
        "outputId": "5a595869-a287-4434-90d6-3d9bba234d42"
      },
      "execution_count": null,
      "outputs": [
        {
          "output_type": "stream",
          "name": "stdout",
          "text": [
            "Multiplicação: arr1*2 = \n",
            " [[2 4]\n",
            " [6 8]]\n"
          ]
        }
      ]
    },
    {
      "cell_type": "code",
      "source": [
        "print(f\"Multiplicação: arr1*arr3 = \\n {arr1*arr3}\")"
      ],
      "metadata": {
        "colab": {
          "base_uri": "https://localhost:8080/"
        },
        "id": "HbzF90hsvBYy",
        "outputId": "ff459d4f-73b1-4bb7-f42a-db93df774c29"
      },
      "execution_count": null,
      "outputs": [
        {
          "output_type": "stream",
          "name": "stdout",
          "text": [
            "Multiplicação: arr1*arr3 = \n",
            " [[ 3  4]\n",
            " [12  4]]\n"
          ]
        }
      ]
    },
    {
      "cell_type": "markdown",
      "source": [
        "## Divisão"
      ],
      "metadata": {
        "id": "g7mxLR8JuxBy"
      }
    },
    {
      "cell_type": "code",
      "source": [
        "print(f\"Divisão: arr1/2 = \\n {arr1/2}\")\n"
      ],
      "metadata": {
        "colab": {
          "base_uri": "https://localhost:8080/"
        },
        "id": "eZ0GeoV3uiz4",
        "outputId": "802c35b3-af91-4a8c-e6ee-a1e28db632d6"
      },
      "execution_count": null,
      "outputs": [
        {
          "output_type": "stream",
          "name": "stdout",
          "text": [
            "Divisão: arr1/2 = \n",
            " [[0.5 1. ]\n",
            " [1.5 2. ]]\n"
          ]
        }
      ]
    },
    {
      "cell_type": "code",
      "source": [
        "print(f\"Divisão: arr1/arr3 = \\n {arr1/arr3}\")"
      ],
      "metadata": {
        "colab": {
          "base_uri": "https://localhost:8080/"
        },
        "id": "uF30DsWvvFHS",
        "outputId": "ff8a0636-21a9-44e5-adf2-028aaa903885"
      },
      "execution_count": null,
      "outputs": [
        {
          "output_type": "stream",
          "name": "stdout",
          "text": [
            "Divisão: arr1/arr3 = \n",
            " [[0.33333333 1.        ]\n",
            " [0.75       4.        ]]\n"
          ]
        }
      ]
    },
    {
      "cell_type": "markdown",
      "source": [
        "## Exponenciação"
      ],
      "metadata": {
        "id": "Mbf7r45cvNBs"
      }
    },
    {
      "cell_type": "code",
      "source": [
        "print(f\"Exponenciação: arr1**3 = \\n {arr1**3}\")"
      ],
      "metadata": {
        "colab": {
          "base_uri": "https://localhost:8080/"
        },
        "id": "X_Wm-KkavKxK",
        "outputId": "522dbe21-2509-4291-85a8-c00be60ad6a1"
      },
      "execution_count": null,
      "outputs": [
        {
          "output_type": "stream",
          "name": "stdout",
          "text": [
            "Exponenciação: arr1**3 = \n",
            " [[ 1  8]\n",
            " [27 64]]\n"
          ]
        }
      ]
    },
    {
      "cell_type": "code",
      "source": [
        "print(f\"Exponenciação: arr1**arr3 = \\n {arr1**arr3}\")"
      ],
      "metadata": {
        "colab": {
          "base_uri": "https://localhost:8080/"
        },
        "id": "cCE2ZiDHxV4M",
        "outputId": "c214f3f3-ed25-47f1-e7a3-85c4254ceb1e"
      },
      "execution_count": null,
      "outputs": [
        {
          "output_type": "stream",
          "name": "stdout",
          "text": [
            "Exponenciação: arr1**arr3 = \n",
            " [[ 1  4]\n",
            " [81  4]]\n"
          ]
        }
      ]
    },
    {
      "cell_type": "markdown",
      "source": [
        "## Produto de matrizes"
      ],
      "metadata": {
        "id": "pInKf8uh7ZYA"
      }
    },
    {
      "cell_type": "code",
      "source": [
        "print(f\"Produto entre matrizes arr1 e arr2 (arr1 @ arr2) = \\n {arr1@arr2}\")"
      ],
      "metadata": {
        "colab": {
          "base_uri": "https://localhost:8080/"
        },
        "id": "GGO9q20-7igd",
        "outputId": "7f772462-f532-4ed2-89ae-32751b894078"
      },
      "execution_count": null,
      "outputs": [
        {
          "output_type": "stream",
          "name": "stdout",
          "text": [
            "Produto entre matrizes arr1 e arr2 (arr1 @ arr2) = \n",
            " [[3 3]\n",
            " [7 7]]\n"
          ]
        }
      ]
    },
    {
      "cell_type": "markdown",
      "source": [
        "# Métodos para arrays"
      ],
      "metadata": {
        "id": "7EW3w4sl2lO4"
      }
    },
    {
      "cell_type": "code",
      "source": [
        "met_arr = np.array([[5,4,7,1],\n",
        "                    [3,1,9,-1],\n",
        "                    [8,0,-5,1]])\n",
        "print(met_arr)"
      ],
      "metadata": {
        "colab": {
          "base_uri": "https://localhost:8080/"
        },
        "id": "JzQk96nw2xNN",
        "outputId": "d8fe7714-2d53-4f02-f842-3dc3e6fb78e1"
      },
      "execution_count": null,
      "outputs": [
        {
          "output_type": "stream",
          "name": "stdout",
          "text": [
            "[[ 5  4  7  1]\n",
            " [ 3  1  9 -1]\n",
            " [ 8  0 -5  1]]\n"
          ]
        }
      ]
    },
    {
      "cell_type": "markdown",
      "source": [
        "## Obtenção da transposta"
      ],
      "metadata": {
        "id": "583Jmtat3t2d"
      }
    },
    {
      "cell_type": "code",
      "source": [
        "print(met_arr.T)"
      ],
      "metadata": {
        "colab": {
          "base_uri": "https://localhost:8080/"
        },
        "id": "cGs1Pf0U3w76",
        "outputId": "b70efe22-2792-4162-c16a-c50571ebe990"
      },
      "execution_count": null,
      "outputs": [
        {
          "output_type": "stream",
          "name": "stdout",
          "text": [
            "[[ 5  3  8]\n",
            " [ 4  1  0]\n",
            " [ 7  9 -5]\n",
            " [ 1 -1  1]]\n"
          ]
        }
      ]
    },
    {
      "cell_type": "markdown",
      "source": [
        "## Reshape - Mudança de formato"
      ],
      "metadata": {
        "id": "_a-EKtF-34Fr"
      }
    },
    {
      "cell_type": "code",
      "source": [
        "print(met_arr.reshape(12),'\\n')\n",
        "\n",
        "# Nesse caso poderia ser utilizado o método flatten\n",
        "print(met_arr.flatten(),'\\n')\n",
        "\n",
        "\n",
        "print(met_arr.reshape(6,2),'\\n')"
      ],
      "metadata": {
        "colab": {
          "base_uri": "https://localhost:8080/"
        },
        "id": "uT-8lMlT4AT0",
        "outputId": "080ed8c9-00fd-4932-bb1d-690b3d2c6426"
      },
      "execution_count": null,
      "outputs": [
        {
          "output_type": "stream",
          "name": "stdout",
          "text": [
            "[ 5  4  7  1  3  1  9 -1  8  0 -5  1] \n",
            "\n",
            "[ 5  4  7  1  3  1  9 -1  8  0 -5  1] \n",
            "\n",
            "[[ 5  4]\n",
            " [ 7  1]\n",
            " [ 3  1]\n",
            " [ 9 -1]\n",
            " [ 8  0]\n",
            " [-5  1]] \n",
            "\n"
          ]
        }
      ]
    },
    {
      "cell_type": "markdown",
      "source": [
        "## Valor máximo, mínimo, média, desvio padrão, soma e produto"
      ],
      "metadata": {
        "id": "EIWEu5pi4xgZ"
      }
    },
    {
      "cell_type": "markdown",
      "source": [
        "Os métodos abaixo podem operar em um eixo das matrizes ou em todos eles, sendo especificado pelo programador"
      ],
      "metadata": {
        "id": "Z1HMVo-q44bS"
      }
    },
    {
      "cell_type": "markdown",
      "source": [
        "### Valor máximo"
      ],
      "metadata": {
        "id": "OgE1EJD_5hvD"
      }
    },
    {
      "cell_type": "code",
      "source": [
        "# Para todo o array\n",
        "print(met_arr.max(),'\\n\\n')\n",
        "\n",
        "#Forma alternativa: \n",
        "print(np.max(met_arr))"
      ],
      "metadata": {
        "colab": {
          "base_uri": "https://localhost:8080/"
        },
        "id": "4KWXQZVu4toA",
        "outputId": "c006b0c1-7b4f-4bdf-bfdf-c540b92d8a8c"
      },
      "execution_count": null,
      "outputs": [
        {
          "output_type": "stream",
          "name": "stdout",
          "text": [
            "9 \n",
            "\n",
            "\n",
            "9\n"
          ]
        }
      ]
    },
    {
      "cell_type": "markdown",
      "source": [
        "### Valor mínimo"
      ],
      "metadata": {
        "id": "KGuGsRGY56QJ"
      }
    },
    {
      "cell_type": "code",
      "source": [
        "# Computa o máximo para o eixo 1 (cada linha)\n",
        "print(met_arr.min(axis = 1),'\\n\\n')\n",
        "\n",
        "#Forma alternativa:\n",
        "print(np.min(met_arr,axis=1))"
      ],
      "metadata": {
        "colab": {
          "base_uri": "https://localhost:8080/"
        },
        "id": "GuJRCZrw5-2t",
        "outputId": "2722704f-eb45-4e8c-aee3-d9d93e32c317"
      },
      "execution_count": null,
      "outputs": [
        {
          "output_type": "stream",
          "name": "stdout",
          "text": [
            "[ 1 -1 -5] \n",
            "\n",
            "\n",
            "[ 1 -1 -5]\n"
          ]
        }
      ]
    },
    {
      "cell_type": "markdown",
      "source": [
        "### Média\n"
      ],
      "metadata": {
        "id": "t3i674FL6OKA"
      }
    },
    {
      "cell_type": "code",
      "source": [
        "print(met_arr.mean(axis = 0))"
      ],
      "metadata": {
        "colab": {
          "base_uri": "https://localhost:8080/"
        },
        "id": "neZDXN-_6efR",
        "outputId": "5194af3c-c010-4746-f59c-ac84b84ae728"
      },
      "execution_count": null,
      "outputs": [
        {
          "output_type": "stream",
          "name": "stdout",
          "text": [
            "[5.33333333 1.66666667 3.66666667 0.33333333]\n"
          ]
        }
      ]
    },
    {
      "cell_type": "markdown",
      "source": [
        "### Desvio padrão"
      ],
      "metadata": {
        "id": "zQwWo8Q07H91"
      }
    },
    {
      "cell_type": "code",
      "source": [
        "print(np.std(met_arr))"
      ],
      "metadata": {
        "colab": {
          "base_uri": "https://localhost:8080/"
        },
        "id": "L9E_QuVs7J3T",
        "outputId": "2467fd46-fbf8-4059-853f-12439d807341"
      },
      "execution_count": null,
      "outputs": [
        {
          "output_type": "stream",
          "name": "stdout",
          "text": [
            "3.897114317029974\n"
          ]
        }
      ]
    },
    {
      "cell_type": "markdown",
      "source": [
        "### Soma dos elementos"
      ],
      "metadata": {
        "id": "jyKlRz2R7w5C"
      }
    },
    {
      "cell_type": "code",
      "source": [
        "print(met_arr.sum(axis=0))"
      ],
      "metadata": {
        "colab": {
          "base_uri": "https://localhost:8080/"
        },
        "id": "aL-YWFzX7y_y",
        "outputId": "4a24d53c-69ae-49b6-fab3-e225f9d287e7"
      },
      "execution_count": null,
      "outputs": [
        {
          "output_type": "stream",
          "name": "stdout",
          "text": [
            "[16  5 11  1]\n"
          ]
        }
      ]
    },
    {
      "cell_type": "markdown",
      "source": [
        "### Produto dos elementos"
      ],
      "metadata": {
        "id": "8oneKDhW73tz"
      }
    },
    {
      "cell_type": "code",
      "source": [
        "print(met_arr.prod(axis=1))"
      ],
      "metadata": {
        "colab": {
          "base_uri": "https://localhost:8080/"
        },
        "id": "zvWYREZ475hd",
        "outputId": "2cd5c06d-ddd4-4b6f-d14b-d088738c6195"
      },
      "execution_count": null,
      "outputs": [
        {
          "output_type": "stream",
          "name": "stdout",
          "text": [
            "[140 -27   0]\n"
          ]
        }
      ]
    },
    {
      "cell_type": "markdown",
      "source": [
        "# Exercício"
      ],
      "metadata": {
        "id": "pK0PKG1NSHE9"
      }
    },
    {
      "cell_type": "code",
      "source": [
        ""
      ],
      "metadata": {
        "id": "mf4-KzbHSIdV"
      },
      "execution_count": null,
      "outputs": []
    },
    {
      "cell_type": "markdown",
      "source": [
        "# Contrução de gráficos com pyplot"
      ],
      "metadata": {
        "id": "kQ0nPNBITyWp"
      }
    },
    {
      "cell_type": "markdown",
      "source": [
        "O pyplot é um módulo da biblioteca matplotlib que permite a construção de gráficos com sintaxe simplificada de forma similar ao MATLAB. Para utilizarmos fazemos sua importação com seu nome padronizado (plt).\n",
        "\n",
        "Vale destacar que essa também não é uma biblioteca padrão do Python, de forma que a matplotlib deve ser instalada caso estejamos fora do Google Colab."
      ],
      "metadata": {
        "id": "VgbSitquT2Xu"
      }
    },
    {
      "cell_type": "code",
      "source": [
        "import matplotlib.pyplot as plt"
      ],
      "metadata": {
        "id": "bMr7ItYzUMsk"
      },
      "execution_count": null,
      "outputs": []
    },
    {
      "cell_type": "markdown",
      "source": [
        "## Gráfico básico"
      ],
      "metadata": {
        "id": "jdbFMn9nUxlk"
      }
    },
    {
      "cell_type": "code",
      "source": [
        "data = np.linspace(-5,5)\n",
        "plt.plot(data)\n",
        "plt.show()"
      ],
      "metadata": {
        "colab": {
          "base_uri": "https://localhost:8080/",
          "height": 54
        },
        "id": "xqu4pYnJWRpE",
        "outputId": "729e33b2-e92f-4265-ef2a-37075b2eaf13"
      },
      "execution_count": null,
      "outputs": [
        {
          "output_type": "display_data",
          "data": {
            "image/png": "[encoded data removed]",
            "text/plain": [
              "<Figure size 432x288 with 1 Axes>"
            ]
          },
          "metadata": {
            "needs_background": "light"
          }
        }
      ]
    },
    {
      "cell_type": "markdown",
      "source": [
        "## Gráfico composto por uma função"
      ],
      "metadata": {
        "id": "OK1MLG9OXXnW"
      }
    },
    {
      "cell_type": "code",
      "source": [
        "# Criação dos dados\n",
        "t = np.arange(0.0, 2.0, 0.01)\n",
        "signal = 1 + np.sin(2 * np.pi * t)\n",
        "\n",
        "plt.plot(t,signal)\n",
        "plt.show()"
      ],
      "metadata": {
        "colab": {
          "base_uri": "https://localhost:8080/",
          "height": 54
        },
        "id": "A2AcyHo8UQ8i",
        "outputId": "83d17f3d-6374-4dea-8019-4a43ac7dd097"
      },
      "execution_count": null,
      "outputs": [
        {
          "output_type": "display_data",
          "data": {
            "image/png": "[encoded data removed]",
            "text/plain": [
              "<Figure size 432x288 with 1 Axes>"
            ]
          },
          "metadata": {
            "needs_background": "light"
          }
        }
      ]
    },
    {
      "cell_type": "markdown",
      "source": [
        "## Gráfico composto por múltiplas funções"
      ],
      "metadata": {
        "id": "hGEZZpc7YJSC"
      }
    },
    {
      "cell_type": "code",
      "source": [
        "t = np.arange(0.0, 2.0, 0.05)\n",
        "signal = 1 + np.sin(2 * np.pi * t)\n",
        "\n",
        "plt.plot(t,signal,label = 'Sinal original')\n",
        "\n",
        "# Trocar 'r--' por 'ro'\n",
        "plt.plot(t-1,signal,'r--',label = 'Sinal modificado') \n",
        "plt.legend(loc = 1)\n",
        "\n",
        "plt.title(\"Funções de exemplo\")\n",
        "plt.xlabel(\"Tempo(s)\")\n",
        "plt.ylabel(\"Tensão(mV)\")\n",
        "\n",
        "plt.show()"
      ],
      "metadata": {
        "colab": {
          "base_uri": "https://localhost:8080/",
          "height": 295
        },
        "id": "5YAIPT-wYL_b",
        "outputId": "fe250cae-e097-43b5-ec96-db3218a4db29"
      },
      "execution_count": null,
      "outputs": [
        {
          "output_type": "display_data",
          "data": {
            "image/png": "[encoded data removed]",
            "text/plain": [
              "<Figure size 432x288 with 1 Axes>"
            ]
          },
          "metadata": {
            "needs_background": "light"
          }
        }
      ]
    },
    {
      "cell_type": "markdown",
      "source": [
        "## Exercício"
      ],
      "metadata": {
        "id": "jqYzUO2_525a"
      }
    },
    {
      "cell_type": "code",
      "source": [
        ""
      ],
      "metadata": {
        "id": "W1HFekxy51tE"
      },
      "execution_count": null,
      "outputs": []
    },
    {
      "cell_type": "markdown",
      "source": [
        "## Figura composta por vários gráficos"
      ],
      "metadata": {
        "id": "piGuvv_mY3Jj"
      }
    },
    {
      "cell_type": "code",
      "source": [
        "plt.suptitle('Título geral')\n",
        "\n",
        "plt.subplot(221)\n",
        "plt.plot(t, signal)\n",
        "\n",
        "plt.subplot(222)\n",
        "plt.plot(t, 2*signal)\n",
        "\n",
        "plt.subplot(223)\n",
        "plt.plot(t, (1/2)*signal)\n",
        "\n",
        "plt.subplot(224)\n",
        "plt.plot(t-1, signal)\n",
        "\n",
        "plt.show()"
      ],
      "metadata": {
        "id": "D1txL86fY5ZB",
        "colab": {
          "base_uri": "https://localhost:8080/",
          "height": 294
        },
        "outputId": "073dcef4-a036-4250-ecb6-178130e84e19"
      },
      "execution_count": null,
      "outputs": [
        {
          "output_type": "display_data",
          "data": {
            "image/png": "[encoded data removed]",
            "text/plain": [
              "<Figure size 432x288 with 4 Axes>"
            ]
          },
          "metadata": {
            "needs_background": "light"
          }
        }
      ]
    },
    {
      "cell_type": "markdown",
      "source": [
        "## Exercício"
      ],
      "metadata": {
        "id": "bxVBn2db48jp"
      }
    },
    {
      "cell_type": "code",
      "source": [
        ""
      ],
      "metadata": {
        "id": "Vf7Qyo394-WW"
      },
      "execution_count": null,
      "outputs": []
    },
    {
      "cell_type": "markdown",
      "source": [
        "## Stem plots"
      ],
      "metadata": {
        "id": "3ZASUTE_wtTA"
      }
    },
    {
      "cell_type": "code",
      "source": [
        "x = np.linspace(0.1, 2 * np.pi, 41)\n",
        "y = np.exp(np.sin(x))\n",
        "\n",
        "plt.stem(x, y, use_line_collection=True)\n",
        "plt.show()"
      ],
      "metadata": {
        "colab": {
          "base_uri": "https://localhost:8080/",
          "height": 265
        },
        "id": "khyK4O3XwwUL",
        "outputId": "ad02eb36-0835-460b-846b-f404170bd6c4"
      },
      "execution_count": null,
      "outputs": [
        {
          "output_type": "display_data",
          "data": {
            "image/png": "[encoded data removed]",
            "text/plain": [
              "<Figure size 432x288 with 1 Axes>"
            ]
          },
          "metadata": {
            "needs_background": "light"
          }
        }
      ]
    },
    {
      "cell_type": "markdown",
      "source": [
        "## Exercício"
      ],
      "metadata": {
        "id": "05tAeJoLyQMK"
      }
    },
    {
      "cell_type": "code",
      "source": [
        ""
      ],
      "metadata": {
        "id": "24Q-tqjG5zkt"
      },
      "execution_count": null,
      "outputs": []
    }
  ]
}