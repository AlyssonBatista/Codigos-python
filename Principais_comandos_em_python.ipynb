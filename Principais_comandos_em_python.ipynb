{
  "nbformat": 4,
  "nbformat_minor": 0,
  "metadata": {
    "colab": {
      "name": "Principais comandos em python.ipynb",
      "provenance": [],
      "collapsed_sections": [],
      "authorship_tag": "ABX9TyNZc609gQGYdAigKiAk0nBo",
      "include_colab_link": true
    },
    "kernelspec": {
      "name": "python3",
      "display_name": "Python 3"
    },
    "language_info": {
      "name": "python"
    }
  },
  "cells": [
    {
      "cell_type": "markdown",
      "metadata": {
        "id": "view-in-github",
        "colab_type": "text"
      },
      "source": [
        "<a href=\"https://colab.research.google.com/github/AlyssonBatista/Codigos-python/blob/main/Principais_comandos_em_python.ipynb\" target=\"_parent\"><img src=\"https://colab.research.google.com/assets/colab-badge.svg\" alt=\"Open In Colab\"/></a>"
      ]
    },
    {
      "cell_type": "markdown",
      "source": [
        "\n",
        "\n",
        "\n",
        "# Comandos básicos em python \n",
        "\n",
        "\n",
        "\n"
      ],
      "metadata": {
        "id": "OJrRF5gHJ9zL"
      }
    },
    {
      "cell_type": "code",
      "execution_count": 10,
      "metadata": {
        "colab": {
          "base_uri": "https://localhost:8080/",
          "height": 0
        },
        "id": "Gc4mTUaNHiWp",
        "outputId": "1f02c4ae-98e2-4654-ed28-69feead1e9e6"
      },
      "outputs": [
        {
          "output_type": "stream",
          "name": "stdout",
          "text": [
            "A primeira forma de imprimir uma variável: 10\n",
            "A segunda forma de imprimir uma variável 10\n",
            "A terceira forma de imprimir uma variável: 10\n"
          ]
        }
      ],
      "source": [
        "A = 10\n",
        "print('A primeira forma de imprimir uma variável:',A)\n",
        "print(f'A segunda forma de imprimir uma variável {A}')\n",
        "print('A terceira forma de imprimir uma variável: %d' %A)"
      ]
    },
    {
      "cell_type": "code",
      "source": [
        ""
      ],
      "metadata": {
        "id": "MffaLxDNaEs3"
      },
      "execution_count": null,
      "outputs": []
    },
    {
      "cell_type": "markdown",
      "source": [
        "####Ordem de procedência de operadores\n",
        "\n",
        "- Parêntesis mais interno\n",
        "- Exponênciação\n",
        "- Multiplicação\n",
        "- Soma e subtração\n"
      ],
      "metadata": {
        "id": "ei7gAw8glFnX"
      }
    },
    {
      "cell_type": "code",
      "source": [
        "import math\n",
        "\n",
        "B=64\n",
        "\n",
        "print(math.sqrt(B))\n",
        "print(math.log(B))"
      ],
      "metadata": {
        "colab": {
          "base_uri": "https://localhost:8080/",
          "height": 0
        },
        "id": "fXIEtBGOlTB-",
        "outputId": "130dc26b-8614-4f65-91c8-b8faa6a09c6f"
      },
      "execution_count": 13,
      "outputs": [
        {
          "output_type": "stream",
          "name": "stdout",
          "text": [
            "8.0\n",
            "4.1588830833596715\n"
          ]
        }
      ]
    },
    {
      "cell_type": "markdown",
      "source": [
        "### ***If else*** e ***elif***"
      ],
      "metadata": {
        "id": "VT_a-Qm4m-ZB"
      }
    },
    {
      "cell_type": "code",
      "source": [
        "nota1 = float(input())\n",
        "nota2 = float(input())\n",
        "\n",
        "media = (nota1 + nota2)/2\n",
        "if media >=7:\n",
        "    print(f'Você foi aprovado com media: {media}')\n",
        "elif media >=5 and media <7:\n",
        "    print(f'Você está na final com media:{media}')\n",
        "else:\n",
        "    print(f'Você está reprovado com média: {media}')"
      ],
      "metadata": {
        "colab": {
          "base_uri": "https://localhost:8080/",
          "height": 0
        },
        "id": "2R-rJ5w4nUIt",
        "outputId": "26064f73-3a81-497c-d2e2-beed1a8879cd"
      },
      "execution_count": 36,
      "outputs": [
        {
          "output_type": "stream",
          "name": "stdout",
          "text": [
            "1\n",
            "9\n",
            "Você está na final com media:5.0\n"
          ]
        }
      ]
    },
    {
      "cell_type": "markdown",
      "source": [
        "### ***while*** e ***for***\n"
      ],
      "metadata": {
        "id": "8YREdmZNrMhw"
      }
    },
    {
      "cell_type": "code",
      "source": [
        "for i in range(6): # Com 1 parâmentro ele varre de 0 até 4.\n",
        "    print(i)"
      ],
      "metadata": {
        "colab": {
          "base_uri": "https://localhost:8080/",
          "height": 0
        },
        "id": "AEMw7lUJrT0G",
        "outputId": "2206600a-4081-4bf0-bacc-0863481dd504"
      },
      "execution_count": 43,
      "outputs": [
        {
          "output_type": "stream",
          "name": "stdout",
          "text": [
            "0\n",
            "1\n",
            "2\n",
            "3\n",
            "4\n",
            "5\n"
          ]
        }
      ]
    },
    {
      "cell_type": "code",
      "source": [
        "for i in range(2,6): # Com 2 parâmetros ele varre de 2 até 6.\n",
        "    print(i)"
      ],
      "metadata": {
        "colab": {
          "base_uri": "https://localhost:8080/",
          "height": 0
        },
        "id": "RhIP0quzrg6s",
        "outputId": "93a602d4-0347-473b-a310-013a79f6f2c8"
      },
      "execution_count": 44,
      "outputs": [
        {
          "output_type": "stream",
          "name": "stdout",
          "text": [
            "2\n",
            "3\n",
            "4\n",
            "5\n"
          ]
        }
      ]
    },
    {
      "cell_type": "code",
      "source": [
        "for i in range(2,6,2):# Com 3 parâmetros ele varre de 2 até 6 com passo 2\n",
        "    print(i)          # O ULTIMO NÚMERO NÃO É INCLUIDO"
      ],
      "metadata": {
        "colab": {
          "base_uri": "https://localhost:8080/",
          "height": 0
        },
        "id": "cqTQ2Ok2rp_D",
        "outputId": "12f57b17-96ea-4311-bb98-8c08c314a366"
      },
      "execution_count": 50,
      "outputs": [
        {
          "output_type": "stream",
          "name": "stdout",
          "text": [
            "2\n",
            "4\n"
          ]
        }
      ]
    },
    {
      "cell_type": "code",
      "source": [
        "num=0\n",
        "while num != -1:\n",
        "    print(num)\n",
        "    num = int(input('Digite um número: \\n'))\n"
      ],
      "metadata": {
        "colab": {
          "base_uri": "https://localhost:8080/",
          "height": 0
        },
        "id": "18fi9eO9uN8x",
        "outputId": "a0b4954f-f7d8-4e5a-b58c-4196fe92c1ac"
      },
      "execution_count": 52,
      "outputs": [
        {
          "name": "stdout",
          "output_type": "stream",
          "text": [
            "0\n",
            "Digite um número: \n",
            "1\n",
            "1\n",
            "Digite um número: \n",
            "-1\n"
          ]
        }
      ]
    },
    {
      "cell_type": "code",
      "source": [
        "notas = 0\n",
        "while notas <= 6:\n",
        "    print(notas)\n",
        "    notas = notas + 1"
      ],
      "metadata": {
        "colab": {
          "base_uri": "https://localhost:8080/",
          "height": 0
        },
        "id": "PWrld9l5u7Gj",
        "outputId": "3c6d4a93-0a3a-4f22-fbbf-fc779145e18e"
      },
      "execution_count": 76,
      "outputs": [
        {
          "output_type": "stream",
          "name": "stdout",
          "text": [
            "0\n",
            "1\n",
            "2\n",
            "3\n",
            "4\n",
            "5\n",
            "6\n"
          ]
        }
      ]
    },
    {
      "cell_type": "markdown",
      "source": [
        "### ***listas***"
      ],
      "metadata": {
        "id": "teVtfZJu2AKY"
      }
    },
    {
      "cell_type": "code",
      "source": [
        "lista_1 = []\n",
        "lista_2 = [1,2,3]\n",
        "lista_3 = ['Alysson ',30,2022,\"ifpb\"]\n",
        "lista_4 = [['Batista ', 30],['Souza',30]]\n",
        "soma = lista_2 + lista_3 # concatena as listas\n",
        "print(soma)\n",
        "len(lista_3)"
      ],
      "metadata": {
        "colab": {
          "base_uri": "https://localhost:8080/",
          "height": 0
        },
        "id": "ZY2uPhYN2Fro",
        "outputId": "417752df-13f9-49fa-d313-663b0df30033"
      },
      "execution_count": 80,
      "outputs": [
        {
          "output_type": "stream",
          "name": "stdout",
          "text": [
            "[1, 2, 3, 'Alysson ', 30, 2022, 'ifpb']\n"
          ]
        },
        {
          "output_type": "execute_result",
          "data": {
            "text/plain": [
              "4"
            ]
          },
          "metadata": {},
          "execution_count": 80
        }
      ]
    },
    {
      "cell_type": "code",
      "source": [
        "print('Alysson' in lista_3)\n",
        "print('Alysson ' in lista_3)\n",
        "print('joão' in lista_4)"
      ],
      "metadata": {
        "colab": {
          "base_uri": "https://localhost:8080/",
          "height": 0
        },
        "id": "epm9LDvG4N2m",
        "outputId": "53a0390a-ea3f-4703-994a-9a2b7c3d4fa2"
      },
      "execution_count": 99,
      "outputs": [
        {
          "output_type": "stream",
          "name": "stdout",
          "text": [
            "False\n",
            "True\n",
            "False\n"
          ]
        }
      ]
    },
    {
      "cell_type": "code",
      "source": [
        "numeros = [1,2,3,4.5,6,7,8.4]\n",
        "print(min(numeros))\n",
        "print(max(numeros))\n",
        "print(sum(numeros))"
      ],
      "metadata": {
        "colab": {
          "base_uri": "https://localhost:8080/",
          "height": 0
        },
        "id": "tQnbIIt346GC",
        "outputId": "ce57bf45-764f-4e64-dce0-d43cb5cfb14c"
      },
      "execution_count": 98,
      "outputs": [
        {
          "output_type": "stream",
          "name": "stdout",
          "text": [
            "1\n",
            "8.4\n",
            "31.9\n"
          ]
        }
      ]
    },
    {
      "cell_type": "markdown",
      "source": [
        "## Métodos importantes para usar nas listas"
      ],
      "metadata": {
        "id": "l404J6wu6QQ0"
      }
    },
    {
      "cell_type": "code",
      "source": [
        "casa = [1,2,4,5,6,7,8,9,10]\n",
        "casa.append(10) # adiciona um elemento ao final da lista\n",
        "print(casa)"
      ],
      "metadata": {
        "colab": {
          "base_uri": "https://localhost:8080/",
          "height": 0
        },
        "id": "VsbSd_Q76lnR",
        "outputId": "3fdf8169-849a-403f-abb9-da9121b3c045"
      },
      "execution_count": 142,
      "outputs": [
        {
          "output_type": "stream",
          "name": "stdout",
          "text": [
            "[1, 2, 4, 5, 6, 7, 8, 9, 10, 10]\n"
          ]
        }
      ]
    },
    {
      "cell_type": "code",
      "source": [
        "casa.count(10) # contas quantas vezes determinados elementos aparecem na lista"
      ],
      "metadata": {
        "colab": {
          "base_uri": "https://localhost:8080/",
          "height": 0
        },
        "id": "MIgCz79a9Nfw",
        "outputId": "702b3901-c854-497f-f38d-7185494d854a"
      },
      "execution_count": 143,
      "outputs": [
        {
          "output_type": "execute_result",
          "data": {
            "text/plain": [
              "2"
            ]
          },
          "metadata": {},
          "execution_count": 143
        }
      ]
    },
    {
      "cell_type": "code",
      "source": [
        "casa.insert(2,3) # insere um elemento ápos o elemento 2 \n",
        "print(casa)"
      ],
      "metadata": {
        "colab": {
          "base_uri": "https://localhost:8080/",
          "height": 0
        },
        "id": "tERVmXKj8fZM",
        "outputId": "197827c5-4763-49ad-986a-5147e0e0bbb1"
      },
      "execution_count": 144,
      "outputs": [
        {
          "output_type": "stream",
          "name": "stdout",
          "text": [
            "[1, 2, 3, 4, 5, 6, 7, 8, 9, 10, 10]\n"
          ]
        }
      ]
    },
    {
      "cell_type": "code",
      "source": [
        "casa.remove(10) # remove um elemento\n",
        "print(casa)"
      ],
      "metadata": {
        "colab": {
          "base_uri": "https://localhost:8080/",
          "height": 0
        },
        "id": "AG_FPxLw8hhi",
        "outputId": "d97a5d27-3675-4cdc-971a-19fabd3f48f3"
      },
      "execution_count": 145,
      "outputs": [
        {
          "output_type": "stream",
          "name": "stdout",
          "text": [
            "[1, 2, 3, 4, 5, 6, 7, 8, 9, 10]\n"
          ]
        }
      ]
    },
    {
      "cell_type": "code",
      "source": [
        "casa.reverse() # Reverte a lista\n",
        "print(casa)"
      ],
      "metadata": {
        "colab": {
          "base_uri": "https://localhost:8080/",
          "height": 0
        },
        "id": "yetgeWWf8llq",
        "outputId": "eaee24d7-32b0-40ce-ea7f-3fad14f7d850"
      },
      "execution_count": 146,
      "outputs": [
        {
          "output_type": "stream",
          "name": "stdout",
          "text": [
            "[10, 9, 8, 7, 6, 5, 4, 3, 2, 1]\n"
          ]
        }
      ]
    },
    {
      "cell_type": "code",
      "source": [
        "casa.sort() # reordena a lista do menor para o maior\n",
        "print(casa)"
      ],
      "metadata": {
        "colab": {
          "base_uri": "https://localhost:8080/",
          "height": 0
        },
        "id": "3eWkQxnu8qx7",
        "outputId": "f9c716e0-1c8a-46f1-85c9-2b8bdee00c15"
      },
      "execution_count": 147,
      "outputs": [
        {
          "output_type": "stream",
          "name": "stdout",
          "text": [
            "[1, 2, 3, 4, 5, 6, 7, 8, 9, 10]\n"
          ]
        }
      ]
    },
    {
      "cell_type": "code",
      "source": [
        "casa.sort(reverse = True) # reordena a lista do maior para o menor\n",
        "print(casa)"
      ],
      "metadata": {
        "colab": {
          "base_uri": "https://localhost:8080/",
          "height": 0
        },
        "id": "rCzYisgB-CGN",
        "outputId": "df1b5c9d-bf9e-461f-dee8-d62f4b498381"
      },
      "execution_count": 148,
      "outputs": [
        {
          "output_type": "stream",
          "name": "stdout",
          "text": [
            "[10, 9, 8, 7, 6, 5, 4, 3, 2, 1]\n"
          ]
        }
      ]
    },
    {
      "cell_type": "markdown",
      "source": [
        "###  ***Funções***"
      ],
      "metadata": {
        "id": "i6iqQ8ZSAB3_"
      }
    },
    {
      "cell_type": "code",
      "source": [
        "def saudacao():\n",
        "    nome = str(input('Qual o seu nome:\\n'))\n",
        "    print(f\"olá {nome} \")\n",
        "saudacao()"
      ],
      "metadata": {
        "colab": {
          "base_uri": "https://localhost:8080/",
          "height": 0
        },
        "id": "9Y7wNiktB80E",
        "outputId": "5013372f-23c2-4c56-a316-c2dc05309af9"
      },
      "execution_count": 152,
      "outputs": [
        {
          "output_type": "stream",
          "name": "stdout",
          "text": [
            "Qual o seu nome:\n",
            "Alyson\n",
            "olá Alyson \n"
          ]
        }
      ]
    },
    {
      "cell_type": "code",
      "source": [
        "def aluno(nome, idade):\n",
        "    print(f'O nome do aluno é {nome} e sua idade é {idade}')\n",
        "\n",
        "aluno('Alysson',30)\n",
        "aluno(\"carlos\",34)"
      ],
      "metadata": {
        "colab": {
          "base_uri": "https://localhost:8080/",
          "height": 0
        },
        "id": "weNG1-jSAHQ0",
        "outputId": "087dd955-f404-40d5-b37c-76c3d8ad747f"
      },
      "execution_count": 150,
      "outputs": [
        {
          "output_type": "stream",
          "name": "stdout",
          "text": [
            "O nome do aluno é Alysson e sua idade é 30\n",
            "O nome do aluno é carlos e sua idade é 34\n"
          ]
        }
      ]
    },
    {
      "cell_type": "code",
      "source": [
        "def areaRetangulo(base,altura):\n",
        "    area = base*altura\n",
        "    return area\n",
        "\n",
        "area = areaRetangulo(10,4)\n",
        "print(area)"
      ],
      "metadata": {
        "colab": {
          "base_uri": "https://localhost:8080/",
          "height": 0
        },
        "id": "0DTGf06pDOA2",
        "outputId": "4ed136cf-d5d2-4ccf-cf6e-091a7f0c5c9f"
      },
      "execution_count": 157,
      "outputs": [
        {
          "output_type": "stream",
          "name": "stdout",
          "text": [
            "40\n"
          ]
        }
      ]
    },
    {
      "cell_type": "code",
      "source": [
        "def are_ret_tri(base,altura):\n",
        "    area_ret = base*altura\n",
        "    area_tri = (base*altura)/2\n",
        "    return [area_ret,area_tri]\n",
        "\n",
        "area = are_ret_tri(8,5)\n",
        "\n",
        "print(f\"A área do triangulo é {area[1]}\")\n",
        "print(f'A área do retangulo é {area[0]}')"
      ],
      "metadata": {
        "colab": {
          "base_uri": "https://localhost:8080/",
          "height": 0
        },
        "id": "JTL5II9mEjwO",
        "outputId": "9c2c4a62-f5c8-4be6-a574-d212a68501d4"
      },
      "execution_count": 158,
      "outputs": [
        {
          "output_type": "stream",
          "name": "stdout",
          "text": [
            "A área do triangulo é 20.0\n",
            "A área do retangulo é 40\n"
          ]
        }
      ]
    },
    {
      "cell_type": "code",
      "source": [
        "asa"
      ],
      "metadata": {
        "id": "_oJhWprYUYeB"
      },
      "execution_count": null,
      "outputs": []
    }
  ]
}