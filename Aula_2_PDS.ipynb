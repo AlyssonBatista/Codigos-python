{
  "nbformat": 4,
  "nbformat_minor": 0,
  "metadata": {
    "colab": {
      "name": "Aula_2_PDS.ipynb",
      "provenance": [],
      "authorship_tag": "ABX9TyPn3XOT3ibu04fmLqpIer12",
      "include_colab_link": true
    },
    "kernelspec": {
      "name": "python3",
      "display_name": "Python 3"
    },
    "language_info": {
      "name": "python"
    }
  },
  "cells": [
    {
      "cell_type": "markdown",
      "metadata": {
        "id": "view-in-github",
        "colab_type": "text"
      },
      "source": [
        "<a href=\"https://colab.research.google.com/github/AlyssonBatista/Codigos-python/blob/main/Aula_2_PDS.ipynb\" target=\"_parent\"><img src=\"https://colab.research.google.com/assets/colab-badge.svg\" alt=\"Open In Colab\"/></a>"
      ]
    },
    {
      "cell_type": "markdown",
      "source": [
        "#Aula 2"
      ],
      "metadata": {
        "id": "rZMSdnD3IqZj"
      }
    },
    {
      "cell_type": "markdown",
      "source": [
        "## Operador \"is\""
      ],
      "metadata": {
        "id": "EW0M3w-MI5BJ"
      }
    },
    {
      "cell_type": "code",
      "source": [
        "lista_1 = ['a','b','c']\n",
        "lista_2 = lista_1\n",
        "lista_3 = list(lista_1) # atribui a lista_1 a lista_3\n",
        "print(lista_1)\n",
        "print(lista_2)\n",
        "print(lista_3)"
      ],
      "metadata": {
        "colab": {
          "base_uri": "https://localhost:8080/"
        },
        "id": "oUBhTC-II9gg",
        "outputId": "ce0a4329-45a2-470c-8bcb-1e7d2d06e611"
      },
      "execution_count": 1,
      "outputs": [
        {
          "output_type": "stream",
          "name": "stdout",
          "text": [
            "['a', 'b', 'c']\n",
            "['a', 'b', 'c']\n",
            "['a', 'b', 'c']\n"
          ]
        }
      ]
    },
    {
      "cell_type": "code",
      "source": [
        "print(lista_1 == lista_2)\n",
        "print(lista_1 == lista_3)\n"
      ],
      "metadata": {
        "colab": {
          "base_uri": "https://localhost:8080/"
        },
        "id": "OK5q2wlNJ7_S",
        "outputId": "cd30f75e-0020-4a36-82a6-e35330816fa4"
      },
      "execution_count": 2,
      "outputs": [
        {
          "output_type": "stream",
          "name": "stdout",
          "text": [
            "True\n",
            "True\n"
          ]
        }
      ]
    },
    {
      "cell_type": "code",
      "source": [
        "print(lista_1 is lista_2)\n",
        "print(lista_1 is lista_3)"
      ],
      "metadata": {
        "colab": {
          "base_uri": "https://localhost:8080/"
        },
        "id": "_16GGB_uKECh",
        "outputId": "389e8e80-b221-4c74-c236-bee1d2c9ab41"
      },
      "execution_count": 3,
      "outputs": [
        {
          "output_type": "stream",
          "name": "stdout",
          "text": [
            "True\n",
            "False\n"
          ]
        }
      ]
    },
    {
      "cell_type": "code",
      "source": [
        "print(id(lista_1))\n",
        "print(id(lista_2))\n",
        "print(id(lista_3))"
      ],
      "metadata": {
        "colab": {
          "base_uri": "https://localhost:8080/"
        },
        "id": "49vlDoAXKYjW",
        "outputId": "3015d2c2-95fd-4aa5-fe4e-0415349ce6ea"
      },
      "execution_count": 5,
      "outputs": [
        {
          "output_type": "stream",
          "name": "stdout",
          "text": [
            "140501002214128\n",
            "140501002214128\n",
            "140500976650032\n"
          ]
        }
      ]
    },
    {
      "cell_type": "code",
      "source": [
        "a=2 \n",
        "b=str(a)\n",
        "c=int(b)"
      ],
      "metadata": {
        "id": "0WtjSIoNKjlV"
      },
      "execution_count": 7,
      "outputs": []
    },
    {
      "cell_type": "code",
      "source": [
        "print(a is b)\n",
        "print(a is c)"
      ],
      "metadata": {
        "colab": {
          "base_uri": "https://localhost:8080/"
        },
        "id": "KsHU_y7oKtRY",
        "outputId": "56f74956-9569-43da-cad4-de5a810ca5ee"
      },
      "execution_count": 8,
      "outputs": [
        {
          "output_type": "stream",
          "name": "stdout",
          "text": [
            "False\n",
            "True\n"
          ]
        }
      ]
    },
    {
      "cell_type": "code",
      "source": [
        "print(id(a))\n",
        "print(id(b))\n",
        "print(id(c))"
      ],
      "metadata": {
        "colab": {
          "base_uri": "https://localhost:8080/"
        },
        "id": "XMaifiDUK4SS",
        "outputId": "5594adc9-30ff-4a1a-9aac-be832f7bce78"
      },
      "execution_count": 9,
      "outputs": [
        {
          "output_type": "stream",
          "name": "stdout",
          "text": [
            "94730324884000\n",
            "140500796639664\n",
            "94730324884000\n"
          ]
        }
      ]
    },
    {
      "cell_type": "markdown",
      "source": [
        "## Múltiplas entradas na função input"
      ],
      "metadata": {
        "id": "NvY6uyTrK_8o"
      }
    },
    {
      "cell_type": "code",
      "source": [
        "nota1,nota2 = input(\"Digite as notas separadas por espaço: \").split()\n",
        "print(f\"Nota 1: {nota1}\\nNota 2: {nota2}\")"
      ],
      "metadata": {
        "colab": {
          "base_uri": "https://localhost:8080/"
        },
        "id": "tVhuyUWALH94",
        "outputId": "4ecdf36a-8ebc-4138-f76f-7c4d9c2d061a"
      },
      "execution_count": 11,
      "outputs": [
        {
          "output_type": "stream",
          "name": "stdout",
          "text": [
            "Digite as notas separadas por espaço: 69 98\n",
            "Nota 1: 69\n",
            "Nota 2: 98\n"
          ]
        }
      ]
    },
    {
      "cell_type": "code",
      "source": [
        "notas = input(\"Digite as notas separadas por virgulas: \").split(',')#o valor é armazenado em uma lista\n",
        "\n",
        "\n",
        "print(notas,\"\\n\\n\") \n",
        "\n",
        "for i in range(len(notas)):\n",
        "    print(notas[i])\n",
        "print('\\n')\n",
        "for cont,nota in enumerate(notas):\n",
        "    print(f'Nota {cont}: {nota}')"
      ],
      "metadata": {
        "colab": {
          "base_uri": "https://localhost:8080/"
        },
        "id": "wA7KmlDOLudF",
        "outputId": "c8d1c71a-7d75-4027-afcb-0ce8f5d56ffc"
      },
      "execution_count": 15,
      "outputs": [
        {
          "output_type": "stream",
          "name": "stdout",
          "text": [
            "Digite as notas separadas por virgulas: 34,65,78,89,98,100\n",
            "['34', '65', '78', '89', '98', '100'] \n",
            "\n",
            "\n",
            "34\n",
            "65\n",
            "78\n",
            "89\n",
            "98\n",
            "100\n",
            "\n",
            "\n",
            "Nota 0: 34\n",
            "Nota 1: 65\n",
            "Nota 2: 78\n",
            "Nota 3: 89\n",
            "Nota 4: 98\n",
            "Nota 5: 100\n"
          ]
        }
      ]
    },
    {
      "cell_type": "markdown",
      "source": [
        "## Criação de arrays numpy\n",
        "\n",
        "Primeiramente é importada a biblioteca numpy. Apesar de já estar instalada no ambiente Colab, a biblioteca numpy não vem por padrão no Python, devendo ser instalada por meio de algum gerenciador de pacotes como pip ou conda.\n",
        "\n",
        "O as é a forma do Python de indicar como as funções da biblioteca importada serão chamadas no programa. Bibliotecas mais famosas, como a numpy, já possuem alguma convenção, nesse caso, **np.** As convenções podem ser observadas a partir de exemplos na documentação da biblioteca a ser utilizada.\n",
        "\n",
        "Dessa forma, cada função da numpy será precedida por np.nome_funcao."
      ],
      "metadata": {
        "id": "vIzq_zslNfgV"
      }
    },
    {
      "cell_type": "code",
      "source": [
        "import numpy as np"
      ],
      "metadata": {
        "id": "s02bGraVNlGd"
      },
      "execution_count": 16,
      "outputs": []
    }
  ]
}